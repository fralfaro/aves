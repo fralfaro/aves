{
 "cells": [
  {
   "attachments": {},
   "cell_type": "markdown",
   "metadata": {},
   "source": [
    "# Clase Práctica 1: `pandas`, `geopandas`, y Encuesta Origen-Destino de Santiago\n",
    "\n",
    "Por **Eduardo Graells-Garrido**. <egraells@dcc.uchile.cl>. \n",
    "\n",
    "Actualizado: **23 de Marzo de 2023**.\n",
    "\n",
    "En esta case práctica exploraremos bibliotecas para trabajar con `DataFrames` y experimentaremos con una medida ficticia de \"índice de calidad de vida\" que compararemos con un índice real."
   ]
  },
  {
   "cell_type": "code",
   "execution_count": null,
   "metadata": {},
   "outputs": [],
   "source": [
    "import sys\n",
    "from pathlib import Path\n",
    "\n",
    "AVES_ROOT = Path(\"../..\") if not \"google.colab\" in sys.modules else Path(\"aves_git\")\n",
    "\n",
    "EOD_PATH = AVES_ROOT / \"data\" / \"external\" / \"EOD_STGO\"\n",
    "EOD_PATH\n"
   ]
  },
  {
   "cell_type": "code",
   "execution_count": null,
   "metadata": {},
   "outputs": [],
   "source": [
    "import matplotlib as mpl\n",
    "import matplotlib.pyplot as plt\n",
    "import seaborn as sns\n",
    "import numpy as np\n",
    "import pandas as pd\n",
    "import geopandas as gpd\n",
    "\n",
    "# esto configura la calidad de la imagen. dependerá de tu resolución. el valor por omisión es 80\n",
    "mpl.rcParams[\"figure.dpi\"] = 96\n",
    "# esto depende de las fuentes que tengas instaladas en el sistema.\n",
    "mpl.rcParams[\"font.family\"] = \"Fira Sans Extra Condensed\"\n"
   ]
  },
  {
   "cell_type": "code",
   "execution_count": null,
   "metadata": {},
   "outputs": [],
   "source": [
    "from aves.data import eod\n",
    "\n",
    "viajes = eod.read_trips(EOD_PATH)\n",
    "personas = eod.read_people(EOD_PATH)\n"
   ]
  },
  {
   "cell_type": "code",
   "execution_count": null,
   "metadata": {},
   "outputs": [],
   "source": [
    "viajes.columns"
   ]
  },
  {
   "cell_type": "code",
   "execution_count": null,
   "metadata": {},
   "outputs": [],
   "source": [
    "viajes[['ComunaOrigen', 'ComunaDestino', 'ModoAgregado', 'TiempoViaje', 'Periodo', 'FactorLaboralNormal']].sample(5)"
   ]
  },
  {
   "cell_type": "code",
   "execution_count": null,
   "metadata": {},
   "outputs": [],
   "source": [
    "personas.columns"
   ]
  },
  {
   "cell_type": "code",
   "execution_count": null,
   "metadata": {},
   "outputs": [],
   "source": [
    "personas[['AnoNac', 'Sexo', 'Relacion', 'Ocupacion', 'Factor_LaboralNormal']].sample(5)"
   ]
  },
  {
   "cell_type": "code",
   "execution_count": null,
   "metadata": {},
   "outputs": [],
   "source": [
    "set(viajes.columns) & set(personas.columns)"
   ]
  },
  {
   "cell_type": "code",
   "execution_count": null,
   "metadata": {},
   "outputs": [],
   "source": [
    "viajes_persona = viajes.merge(personas)"
   ]
  },
  {
   "cell_type": "code",
   "execution_count": null,
   "metadata": {},
   "outputs": [],
   "source": [
    "viajes_persona[['AnoNac', 'Sexo', 'Relacion', 'Ocupacion', 'Factor_LaboralNormal'] + ['ComunaOrigen', 'ComunaDestino', 'ModoAgregado', 'TiempoViaje', 'Periodo', 'FactorLaboralNormal']].sample(5)"
   ]
  },
  {
   "cell_type": "code",
   "execution_count": null,
   "metadata": {},
   "outputs": [],
   "source": [
    "viajes_persona[\"PesoLaboral\"] = (\n",
    "    viajes_persona[\"FactorLaboralNormal\"] * viajes_persona[\"Factor_LaboralNormal\"]\n",
    ")\n",
    "\n",
    "viajes_persona = viajes_persona[pd.notnull(viajes_persona[\"PesoLaboral\"])]\n",
    "\n",
    "print(\n",
    "    \"{} viajes expandidos a {}\".format(\n",
    "        len(viajes_persona), int(viajes_persona[\"PesoLaboral\"].sum())\n",
    "    )\n",
    ")\n"
   ]
  },
  {
   "cell_type": "code",
   "execution_count": null,
   "metadata": {},
   "outputs": [],
   "source": [
    "hogares = eod.read_homes(EOD_PATH)\n",
    "hogares.columns"
   ]
  },
  {
   "cell_type": "code",
   "execution_count": null,
   "metadata": {},
   "outputs": [],
   "source": [
    "data = viajes_persona.merge(hogares[['Hogar', 'Comuna', 'Sector']])\n",
    "data.sample(3)"
   ]
  },
  {
   "cell_type": "code",
   "execution_count": null,
   "metadata": {},
   "outputs": [],
   "source": [
    "from aves.features.utils import weighted_mean\n",
    "\n",
    "tiempos_por_comuna = data.groupby(['Comuna', 'Proposito']).apply(lambda x: weighted_mean(x, 'TiempoViaje', 'PesoLaboral')).unstack()\n",
    "tiempos_por_comuna"
   ]
  },
  {
   "cell_type": "code",
   "execution_count": null,
   "metadata": {},
   "outputs": [],
   "source": [
    "tiempos_por_comuna = tiempos_por_comuna.apply(lambda x: x.fillna(x.median()))"
   ]
  },
  {
   "cell_type": "code",
   "execution_count": null,
   "metadata": {},
   "outputs": [],
   "source": [
    "from aves.features.utils import standardize_columns\n",
    "sns.clustermap(tiempos_por_comuna.pipe(standardize_columns), center=0, metric='cosine', figsize=(12, 12))"
   ]
  },
  {
   "cell_type": "code",
   "execution_count": null,
   "metadata": {},
   "outputs": [],
   "source": [
    "indice_tiempos = tiempos_por_comuna.pipe(standardize_columns).mean(axis=1).rename('indice_tiempos')\n",
    "indice_tiempos.sort_values().plot(kind='barh')"
   ]
  },
  {
   "cell_type": "code",
   "execution_count": null,
   "metadata": {},
   "outputs": [],
   "source": [
    "zones = (\n",
    "    gpd.read_file(AVES_ROOT / \"data\" / \"processed\" / \"scl_zonas_urbanas.json\")\n",
    "    .set_index(\"ID\")\n",
    ")\n",
    "zones.head()"
   ]
  },
  {
   "cell_type": "code",
   "execution_count": null,
   "metadata": {},
   "outputs": [],
   "source": [
    "zones.join(indice_tiempos, on='NOM_COMUNA').plot(column='indice_tiempos')"
   ]
  },
  {
   "cell_type": "code",
   "execution_count": null,
   "metadata": {},
   "outputs": [],
   "source": [
    "from gensim.utils import deaccent\n",
    "zones['NOM_COMUNA'] = zones['NOM_COMUNA'].str.replace('Ñ', 'NN').map(deaccent).str.replace('NN', 'Ñ')"
   ]
  },
  {
   "cell_type": "code",
   "execution_count": null,
   "metadata": {},
   "outputs": [],
   "source": [
    "zones.join(indice_tiempos, on='NOM_COMUNA').plot(column='indice_tiempos')"
   ]
  },
  {
   "attachments": {},
   "cell_type": "markdown",
   "metadata": {},
   "source": [
    "Ahora leeremos un índice real que mide la calidad de vida.\n",
    "\n",
    "Fuente del índice: https://estudiosurbanos.uc.cl/wp-content/uploads/2022/06/Informe-Ejecutivo-ICVU-2021-1.pdf\n",
    "Noticia con tablas: https://www.emol.com/noticias/Nacional/2022/06/15/1064139/ranking-icvu-2021-chile.html"
   ]
  },
  {
   "cell_type": "code",
   "execution_count": null,
   "metadata": {},
   "outputs": [],
   "source": [
    "indice_medido = pd.read_html('https://www.emol.com/noticias/Nacional/2022/06/15/1064139/ranking-icvu-2021-chile.html', decimal=',', thousands='.', encoding='utf-8')"
   ]
  },
  {
   "cell_type": "code",
   "execution_count": null,
   "metadata": {},
   "outputs": [],
   "source": [
    "indice_icvu = indice_medido[-1]\n",
    "indice_icvu['Comuna'] = indice_icvu['Comuna'].str.upper().str.replace('Ñ', 'NN').map(deaccent).str.replace('NN', 'Ñ')\n",
    "indice_icvu"
   ]
  },
  {
   "cell_type": "code",
   "execution_count": null,
   "metadata": {},
   "outputs": [],
   "source": [
    "zones.join(indice_icvu.set_index('Comuna'), on='NOM_COMUNA').plot(column='Puntaje ICVU')"
   ]
  },
  {
   "cell_type": "code",
   "execution_count": null,
   "metadata": {},
   "outputs": [],
   "source": [
    "indice_icvu.join(indice_tiempos, on='Comuna', how='inner').corr()"
   ]
  }
 ],
 "metadata": {
  "interpreter": {
   "hash": "3b64740e6c93fa280fc0340b37d47e75672f67db75a9b952a66e9aaf0ff96ff2"
  },
  "kernelspec": {
   "display_name": "Python 3.8.12 ('aves')",
   "language": "python",
   "name": "python3"
  },
  "language_info": {
   "codemirror_mode": {
    "name": "ipython",
    "version": 3
   },
   "file_extension": ".py",
   "mimetype": "text/x-python",
   "name": "python",
   "nbconvert_exporter": "python",
   "pygments_lexer": "ipython3",
   "version": "3.9.15"
  }
 },
 "nbformat": 4,
 "nbformat_minor": 4
}
