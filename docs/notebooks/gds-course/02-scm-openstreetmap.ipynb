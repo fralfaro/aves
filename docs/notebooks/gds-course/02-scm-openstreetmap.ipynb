{
 "cells": [
  {
   "attachments": {},
   "cell_type": "markdown",
   "metadata": {},
   "source": [
    "`make download-osm`"
   ]
  },
  {
   "cell_type": "code",
   "execution_count": null,
   "metadata": {},
   "outputs": [],
   "source": [
    "import sys\n",
    "from pathlib import Path\n",
    "\n",
    "AVES_ROOT = Path(\"../..\")\n",
    "\n",
    "import matplotlib as mpl\n",
    "import matplotlib.pyplot as plt\n",
    "import seaborn as sns\n",
    "import numpy as np\n",
    "import pandas as pd\n",
    "import geopandas as gpd\n",
    "\n",
    "# esto configura la calidad de la imagen. dependerá de tu resolución. el valor por omisión es 80\n",
    "mpl.rcParams[\"figure.dpi\"] = 96\n",
    "# esto depende de las fuentes que tengas instaladas en el sistema.\n",
    "mpl.rcParams[\"font.family\"] = \"Fira Sans Extra Condensed\""
   ]
  },
  {
   "cell_type": "code",
   "execution_count": null,
   "metadata": {},
   "outputs": [],
   "source": [
    "zones = (\n",
    "    gpd.read_file(AVES_ROOT / \"data\" / \"processed\" / \"scl_zonas_urbanas.json\")\n",
    "    .set_index(\"ID\")\n",
    ")\n",
    "zones.head()"
   ]
  },
  {
   "cell_type": "code",
   "execution_count": null,
   "metadata": {},
   "outputs": [],
   "source": [
    "OSM_PATH = AVES_ROOT / \"data\" / \"external\" / \"OSM\"\n",
    "\n",
    "osm_clipped_file = OSM_PATH / 'clipped-scl-osm.pbf'\n",
    "\n",
    "if not osm_clipped_file.exists():\n",
    "    import os\n",
    "    bounds = zones.total_bounds\n",
    "    print(bounds)\n",
    "    print(f\"osmconvert {OSM_PATH / 'chile-latest.osm.pbf'} -b={bounds[0]},{bounds[1]},{bounds[2]},{bounds[3]} -o={osm_clipped_file}\")\n",
    "    os.system(f\"osmconvert {OSM_PATH / 'chile-latest.osm.pbf'} -b={bounds[0]},{bounds[1]},{bounds[2]},{bounds[3]} -o={osm_clipped_file}\")\n",
    "else:\n",
    "    print('data already available :D')"
   ]
  },
  {
   "cell_type": "code",
   "execution_count": null,
   "metadata": {},
   "outputs": [],
   "source": [
    "import pyrosm\n",
    "\n",
    "osm = pyrosm.OSM(str(osm_clipped_file))"
   ]
  },
  {
   "attachments": {},
   "cell_type": "markdown",
   "metadata": {},
   "source": [
    "## Puntos de Interés (PoI)"
   ]
  },
  {
   "cell_type": "code",
   "execution_count": null,
   "metadata": {},
   "outputs": [],
   "source": [
    "pois = osm.get_pois()"
   ]
  },
  {
   "cell_type": "code",
   "execution_count": null,
   "metadata": {},
   "outputs": [],
   "source": [
    "pois.sample(5)"
   ]
  },
  {
   "cell_type": "code",
   "execution_count": null,
   "metadata": {},
   "outputs": [],
   "source": [
    "len(pois)"
   ]
  },
  {
   "cell_type": "code",
   "execution_count": null,
   "metadata": {},
   "outputs": [],
   "source": [
    "pois.plot(alpha=0.01)"
   ]
  },
  {
   "cell_type": "code",
   "execution_count": null,
   "metadata": {},
   "outputs": [],
   "source": [
    "from aves.features.osm.pois import categorize_pois\n",
    "\n",
    "cat_pois = categorize_pois(pois)\n",
    "cat_pois"
   ]
  },
  {
   "cell_type": "code",
   "execution_count": null,
   "metadata": {},
   "outputs": [],
   "source": [
    "cat_pois.plot(alpha=0.01)"
   ]
  },
  {
   "cell_type": "code",
   "execution_count": null,
   "metadata": {},
   "outputs": [],
   "source": [
    "cat_pois['taxonomy'].value_counts()"
   ]
  },
  {
   "cell_type": "code",
   "execution_count": null,
   "metadata": {},
   "outputs": [],
   "source": [
    "cat_pois[cat_pois['taxonomy'] == 'health'].plot()"
   ]
  },
  {
   "cell_type": "code",
   "execution_count": null,
   "metadata": {},
   "outputs": [],
   "source": [
    "zones[['NOM_COMUNA', 'geometry']]"
   ]
  },
  {
   "cell_type": "code",
   "execution_count": null,
   "metadata": {},
   "outputs": [],
   "source": [
    "cat_pois_area = gpd.sjoin(cat_pois, zones[['NOM_COMUNA', 'geometry']], op='within')\n",
    "cat_pois_area"
   ]
  },
  {
   "cell_type": "code",
   "execution_count": null,
   "metadata": {},
   "outputs": [],
   "source": [
    "from aves.features.utils import normalize_rows\n",
    "sns.clustermap(cat_pois_area.groupby(['NOM_COMUNA', 'taxonomy']).size().unstack(fill_value=0).pipe(lambda x: np.log(x + 1)), method='ward')"
   ]
  },
  {
   "cell_type": "code",
   "execution_count": null,
   "metadata": {},
   "outputs": [],
   "source": [
    "from aves.features.utils import standardize_columns\n",
    "sns.clustermap(cat_pois_area.groupby(['NOM_COMUNA', 'taxonomy']).size().unstack(fill_value=0).pipe(standardize_columns), method='ward', center=0)"
   ]
  },
  {
   "cell_type": "code",
   "execution_count": null,
   "metadata": {},
   "outputs": [],
   "source": [
    "zone_pois = cat_pois_area.groupby(['index_right', 'taxonomy']).size().unstack(fill_value=0).pipe(np.sqrt).pipe(standardize_columns)\n",
    "zone_pois"
   ]
  },
  {
   "cell_type": "code",
   "execution_count": null,
   "metadata": {},
   "outputs": [],
   "source": [
    "from aves.visualization.figures import figure_from_geodataframe\n",
    "from aves.visualization.maps import choropleth_map\n",
    "\n",
    "fig, ax = figure_from_geodataframe(zones, height=9)\n",
    "\n",
    "choropleth_map(ax, zones.join(zone_pois), 'accommodation', linewidth=0)"
   ]
  },
  {
   "cell_type": "code",
   "execution_count": null,
   "metadata": {},
   "outputs": [],
   "source": [
    "from aves.visualization.figures import small_multiples_from_geodataframe\n",
    "\n",
    "fig, axes = small_multiples_from_geodataframe(zones, 6, height=8, col_wrap=3)\n",
    "\n",
    "for ax, col in zip(axes, ['health', 'education', 'convenience', 'professional', 'public_facility', 'entertainment']):\n",
    "    choropleth_map(ax, zones.join(zone_pois), col, linewidth=0)\n",
    "    ax.set_title(col)\n",
    "\n",
    "fig.tight_layout()"
   ]
  },
  {
   "cell_type": "code",
   "execution_count": null,
   "metadata": {},
   "outputs": [],
   "source": [
    "from scipy.stats import entropy\n",
    "\n",
    "zone_entropy = cat_pois_area.groupby(['index_right', 'taxonomy']).size().unstack(fill_value=0).pipe(np.sqrt).apply(entropy, axis=1).rename('poi_diversity').to_frame().pipe(standardize_columns)\n",
    "\n",
    "fig, ax = figure_from_geodataframe(zones, height=9)\n",
    "\n",
    "choropleth_map(ax, zones.join(zone_entropy), 'poi_diversity', linewidth=0, scheme='quantiles')"
   ]
  },
  {
   "cell_type": "code",
   "execution_count": null,
   "metadata": {},
   "outputs": [],
   "source": [
    "network_edges  = osm.get_network(network_type='driving')"
   ]
  },
  {
   "cell_type": "code",
   "execution_count": null,
   "metadata": {},
   "outputs": [],
   "source": [
    "network_edges.columns"
   ]
  },
  {
   "cell_type": "code",
   "execution_count": null,
   "metadata": {},
   "outputs": [],
   "source": [
    "network_edges['access'].value_counts()"
   ]
  },
  {
   "cell_type": "code",
   "execution_count": null,
   "metadata": {},
   "outputs": [],
   "source": [
    "network_edges[network_edges['highway'] == 'motorway'].plot()"
   ]
  },
  {
   "cell_type": "code",
   "execution_count": null,
   "metadata": {},
   "outputs": [],
   "source": [
    "fig, ax = figure_from_geodataframe(zones, height=12)\n",
    "\n",
    "choropleth_map(ax, zones.join(zone_entropy), 'poi_diversity', linewidth=0, scheme='quantiles')\n",
    "\n",
    "network_edges[network_edges['highway'] == 'motorway'].plot(color='black', ax=ax, linewidth=0.5)\n",
    "network_edges[network_edges['highway'] == 'primary'].plot(color='grey', ax=ax, linewidth=0.5)"
   ]
  },
  {
   "cell_type": "code",
   "execution_count": null,
   "metadata": {},
   "outputs": [],
   "source": [
    "rail_network = osm.get_data_by_custom_criteria(\n",
    "            custom_filter=dict(railway=[\"subway\", \"usage\", \"rail\"]), osm_keys_to_keep=[\"railway\"], filter_type=\"keep\"\n",
    "        )\n",
    "\n",
    "rail_network"
   ]
  },
  {
   "cell_type": "code",
   "execution_count": null,
   "metadata": {},
   "outputs": [],
   "source": [
    "import json\n",
    "\n",
    "rail_network = rail_network.join(pd.DataFrame.from_records(rail_network[\"tags\"].map(json.loads)))\n",
    "rail_network.sample(5)"
   ]
  },
  {
   "cell_type": "code",
   "execution_count": null,
   "metadata": {},
   "outputs": [],
   "source": [
    "rail_network.plot()"
   ]
  },
  {
   "cell_type": "code",
   "execution_count": null,
   "metadata": {},
   "outputs": [],
   "source": [
    "rail_network['name'].value_counts()"
   ]
  },
  {
   "cell_type": "code",
   "execution_count": null,
   "metadata": {},
   "outputs": [],
   "source": [
    "rail_network[rail_network['name'].fillna('').str.contains('Línea|Metro')].plot()"
   ]
  },
  {
   "cell_type": "code",
   "execution_count": null,
   "metadata": {},
   "outputs": [],
   "source": [
    "fig, ax = figure_from_geodataframe(zones, height=12)\n",
    "\n",
    "choropleth_map(ax, zones.join(zone_entropy), 'poi_diversity', linewidth=0, scheme='quantiles')\n",
    "\n",
    "network_edges[network_edges['highway'] == 'motorway'].plot(color='black', ax=ax, linewidth=0.5)\n",
    "network_edges[network_edges['highway'] == 'primary'].plot(color='grey', ax=ax, linewidth=0.5)\n",
    "\n",
    "rail_network[rail_network['name'].fillna('').str.contains('Línea|Metro')].plot(color='purple', ax=ax, linewidth=2)"
   ]
  }
 ],
 "metadata": {
  "kernelspec": {
   "display_name": "aves",
   "language": "python",
   "name": "python3"
  },
  "language_info": {
   "codemirror_mode": {
    "name": "ipython",
    "version": 3
   },
   "file_extension": ".py",
   "mimetype": "text/x-python",
   "name": "python",
   "nbconvert_exporter": "python",
   "pygments_lexer": "ipython3",
   "version": "3.9.15"
  },
  "orig_nbformat": 4
 },
 "nbformat": 4,
 "nbformat_minor": 2
}
