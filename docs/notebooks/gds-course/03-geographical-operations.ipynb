{
 "cells": [
  {
   "cell_type": "code",
   "execution_count": null,
   "metadata": {},
   "outputs": [],
   "source": [
    "import sys\n",
    "from pathlib import Path\n",
    "\n",
    "AVES_ROOT = Path(\"../..\") if not \"google.colab\" in sys.modules else Path(\"aves_git\")\n",
    "\n",
    "EOD_PATH = AVES_ROOT / \"data\" / \"external\" / \"EOD_STGO\"\n",
    "EOD_PATH"
   ]
  },
  {
   "cell_type": "code",
   "execution_count": null,
   "metadata": {},
   "outputs": [],
   "source": [
    "import matplotlib as mpl\n",
    "import matplotlib.pyplot as plt\n",
    "import seaborn as sns\n",
    "import numpy as np\n",
    "import pandas as pd\n",
    "import geopandas as gpd\n",
    "\n",
    "# esto configura la calidad de la imagen. dependerá de tu resolución. el valor por omisión es 80\n",
    "mpl.rcParams[\"figure.dpi\"] = 96\n",
    "# esto depende de las fuentes que tengas instaladas en el sistema.\n",
    "mpl.rcParams[\"font.family\"] = \"Fira Sans Extra Condensed\""
   ]
  },
  {
   "cell_type": "code",
   "execution_count": null,
   "metadata": {},
   "outputs": [],
   "source": [
    "# Load\n",
    "zones = (\n",
    "    gpd.read_file(AVES_ROOT / \"data\" / \"processed\" / \"scl_zonas_urbanas.json\")\n",
    "    .set_index(\"ID\")\n",
    ")\n",
    "zones.head()"
   ]
  },
  {
   "cell_type": "code",
   "execution_count": null,
   "metadata": {},
   "outputs": [],
   "source": [
    "# Sistemas de coordenadas\n",
    "zones.crs"
   ]
  },
  {
   "cell_type": "code",
   "execution_count": null,
   "metadata": {},
   "outputs": [],
   "source": [
    "zones.total_bounds"
   ]
  },
  {
   "cell_type": "code",
   "execution_count": null,
   "metadata": {},
   "outputs": [],
   "source": [
    "zones.plot()"
   ]
  },
  {
   "cell_type": "code",
   "execution_count": null,
   "metadata": {},
   "outputs": [],
   "source": [
    "zones_utm = zones.to_crs('epsg:5361')\n",
    "zones_utm.total_bounds"
   ]
  },
  {
   "cell_type": "code",
   "execution_count": null,
   "metadata": {},
   "outputs": [],
   "source": [
    "zones.plot()"
   ]
  },
  {
   "cell_type": "code",
   "execution_count": null,
   "metadata": {},
   "outputs": [],
   "source": [
    "# Grillas"
   ]
  },
  {
   "cell_type": "code",
   "execution_count": null,
   "metadata": {},
   "outputs": [],
   "source": [
    "from aves.models.grid import S2Grid\n",
    "\n",
    "square_grid = S2Grid.from_geodf(zones, grid_level=12)\n",
    "square_grid"
   ]
  },
  {
   "cell_type": "code",
   "execution_count": null,
   "metadata": {},
   "outputs": [],
   "source": [
    "square_grid.geodf"
   ]
  },
  {
   "cell_type": "code",
   "execution_count": null,
   "metadata": {},
   "outputs": [],
   "source": [
    "ax = square_grid.geodf.plot(edgecolor='grey', linewidth=0.5, color='none')\n",
    "zones.plot(ax=ax, color='none', edgecolor='pink', linewidth=1)"
   ]
  },
  {
   "cell_type": "code",
   "execution_count": null,
   "metadata": {},
   "outputs": [],
   "source": [
    "from aves.models.grid import H3Grid\n",
    "\n",
    "hex_grid = H3Grid.from_geodf(zones, grid_level=7, extra_margin=0.025)\n",
    "hex_grid.geodf"
   ]
  },
  {
   "cell_type": "code",
   "execution_count": null,
   "metadata": {},
   "outputs": [],
   "source": [
    "ax = hex_grid.geodf.plot(edgecolor='grey', linewidth=0.5, color='none')\n",
    "zones.plot(ax=ax, color='none', edgecolor='pink', linewidth=1)"
   ]
  },
  {
   "cell_type": "code",
   "execution_count": null,
   "metadata": {},
   "outputs": [],
   "source": [
    "# Cruces (Joins)"
   ]
  },
  {
   "cell_type": "code",
   "execution_count": null,
   "metadata": {},
   "outputs": [],
   "source": [
    "from aves.data import eod\n",
    "\n",
    "viajes = eod.read_trips(EOD_PATH).merge(eod.read_people(EOD_PATH))\n",
    "\n",
    "viajes[\"PesoLaboral\"] = (\n",
    "    viajes[\"FactorLaboralNormal\"] * viajes[\"Factor_LaboralNormal\"]\n",
    ")\n",
    "\n",
    "viajes = viajes[pd.notnull(viajes[\"PesoLaboral\"])]\n",
    "\n",
    "viajes.columns"
   ]
  },
  {
   "cell_type": "code",
   "execution_count": null,
   "metadata": {},
   "outputs": [],
   "source": [
    "from aves.features.geo import to_point_geodataframe\n",
    "\n",
    "destinos_viajes = to_point_geodataframe(viajes, 'DestinoCoordX', 'DestinoCoordY', crs='epsg:5361')\n",
    "destinos_viajes.plot()"
   ]
  },
  {
   "cell_type": "code",
   "execution_count": null,
   "metadata": {},
   "outputs": [],
   "source": [
    "gpd.sjoin(destinos_viajes, zones, op='within')"
   ]
  },
  {
   "cell_type": "code",
   "execution_count": null,
   "metadata": {},
   "outputs": [],
   "source": [
    "destinos_viajes[destinos_viajes['ComunaDestino'] == 'Las Condes'].to_crs(zones.crs).plot(aspect=1)"
   ]
  },
  {
   "cell_type": "code",
   "execution_count": null,
   "metadata": {},
   "outputs": [],
   "source": [
    "viajes_area_interes = gpd.sjoin(destinos_viajes.to_crs(zones.crs), zones, op='within')\n",
    "viajes_area_interes.plot(marker='.', markersize=1)"
   ]
  },
  {
   "cell_type": "code",
   "execution_count": null,
   "metadata": {},
   "outputs": [],
   "source": [
    "viajes_area_interes.columns"
   ]
  },
  {
   "cell_type": "code",
   "execution_count": null,
   "metadata": {},
   "outputs": [],
   "source": [
    "destinos_area = gpd.sjoin(viajes_area_interes.drop('index_right', axis=1), hex_grid.geodf, op='within').groupby(['h3_cell_id', 'Proposito'])['PesoLaboral'].sum().unstack(fill_value=0)\n",
    "\n",
    "destinos_area"
   ]
  },
  {
   "cell_type": "code",
   "execution_count": null,
   "metadata": {},
   "outputs": [],
   "source": [
    "from aves.visualization.figures import small_multiples_from_geodataframe\n",
    "\n",
    "fig, axes = small_multiples_from_geodataframe(zones, 3)\n",
    "\n",
    "for ax, col in zip(axes, ['Al trabajo', 'De salud', 'Recreación']):\n",
    "    hex_grid.geodf.join(destinos_area.pipe(np.sqrt), on='h3_cell_id').plot(column=col, cmap='Oranges', ax=ax, legend=True)\n",
    "    ax.set_title(col)"
   ]
  },
  {
   "cell_type": "code",
   "execution_count": null,
   "metadata": {},
   "outputs": [],
   "source": [
    "# Agregaciones (Dissolve)"
   ]
  },
  {
   "cell_type": "code",
   "execution_count": null,
   "metadata": {},
   "outputs": [],
   "source": [
    "municipios = zones.dissolve(by='NOM_COMUNA')\n",
    "municipios"
   ]
  },
  {
   "cell_type": "code",
   "execution_count": null,
   "metadata": {},
   "outputs": [],
   "source": [
    "municipios.plot()"
   ]
  },
  {
   "cell_type": "code",
   "execution_count": null,
   "metadata": {},
   "outputs": [],
   "source": [
    "fig, axes = small_multiples_from_geodataframe(zones, 3, height=9)\n",
    "\n",
    "for ax, col in zip(axes, ['Al trabajo', 'De salud', 'Recreación']):\n",
    "    hex_grid.geodf.join(destinos_area.pipe(np.sqrt), on='h3_cell_id').plot(column=col, cmap='Oranges', ax=ax, legend=True)\n",
    "    municipios.plot(ax=ax, linewidth=0.5, edgecolor='grey', color='none')\n",
    "    ax.set_title(col)"
   ]
  },
  {
   "cell_type": "code",
   "execution_count": null,
   "metadata": {},
   "outputs": [],
   "source": [
    "# Operaciones"
   ]
  },
  {
   "cell_type": "code",
   "execution_count": null,
   "metadata": {},
   "outputs": [],
   "source": [
    "from aves.data.census import read_census_map\n",
    "\n",
    "municipios_censo = read_census_map('COMUNA')"
   ]
  },
  {
   "cell_type": "code",
   "execution_count": null,
   "metadata": {},
   "outputs": [],
   "source": [
    "municipios_censo.plot()"
   ]
  },
  {
   "cell_type": "code",
   "execution_count": null,
   "metadata": {},
   "outputs": [],
   "source": [
    "hex_grid_municipios = gpd.sjoin(hex_grid.geodf, municipios_censo, op='intersects')\n",
    "len(hex_grid.geodf), len(hex_grid_municipios)"
   ]
  },
  {
   "cell_type": "code",
   "execution_count": null,
   "metadata": {},
   "outputs": [],
   "source": [
    "ax = hex_grid_municipios.plot(figsize=(12, 12), edgecolor='white', column='NOM_COMUNA', alpha=0.5)\n",
    "#municipios_censo.plot(ax=ax, color='none', edgecolor='green')"
   ]
  },
  {
   "cell_type": "code",
   "execution_count": null,
   "metadata": {},
   "outputs": [],
   "source": [
    "hex_grid_municipios_overlay = gpd.overlay(hex_grid.geodf, municipios_censo, how='intersection')\n",
    "len(hex_grid.geodf), len(hex_grid_municipios_overlay)"
   ]
  },
  {
   "cell_type": "code",
   "execution_count": null,
   "metadata": {},
   "outputs": [],
   "source": [
    "# https://geopandas.org/en/stable/docs/user_guide/set_operations.html\n",
    "ax = hex_grid_municipios_overlay.plot(figsize=(12, 12), edgecolor='white', column='NOM_COMUNA', alpha=0.5)\n"
   ]
  },
  {
   "cell_type": "code",
   "execution_count": null,
   "metadata": {},
   "outputs": [],
   "source": [
    "hex_grid_municipios_overlay[hex_grid_municipios_overlay['NOM_COMUNA'] == 'SANTIAGO'].plot(aspect=1)"
   ]
  },
  {
   "cell_type": "code",
   "execution_count": null,
   "metadata": {},
   "outputs": [],
   "source": [
    "# Pesos Espaciales\n",
    "from libpysal.weights import Queen"
   ]
  },
  {
   "cell_type": "code",
   "execution_count": null,
   "metadata": {},
   "outputs": [],
   "source": [
    "from aves.features.geo import clip_area_geodataframe\n",
    "\n",
    "municipios_area = clip_area_geodataframe(municipios_censo, zones.total_bounds).reset_index(drop=True)\n",
    "municipios_area"
   ]
  },
  {
   "cell_type": "code",
   "execution_count": null,
   "metadata": {},
   "outputs": [],
   "source": [
    "w_queen = Queen.from_dataframe(municipios_area)\n",
    "w_queen.n"
   ]
  },
  {
   "cell_type": "code",
   "execution_count": null,
   "metadata": {},
   "outputs": [],
   "source": [
    "w_queen.pct_nonzero"
   ]
  },
  {
   "cell_type": "code",
   "execution_count": null,
   "metadata": {},
   "outputs": [],
   "source": [
    "ax = municipios_area.plot(edgecolor='grey', facecolor='w')\n",
    "f,ax = w_queen.plot(municipios_area, ax=ax, \n",
    "        edge_kws=dict(color='r', linestyle=':', linewidth=1),\n",
    "        node_kws=dict(marker='o'))"
   ]
  },
  {
   "cell_type": "code",
   "execution_count": null,
   "metadata": {},
   "outputs": [],
   "source": [
    "sns.heatmap(w_queen.full()[0], xticklabels=municipios_area['NOM_COMUNA'], yticklabels=municipios_area['NOM_COMUNA'])"
   ]
  },
  {
   "cell_type": "code",
   "execution_count": null,
   "metadata": {},
   "outputs": [],
   "source": [
    "from libpysal.weights import Kernel\n",
    "# https://pysal.org/libpysal/generated/libpysal.weights.Kernel.html\n",
    "\n",
    "w_kernel = Kernel.from_dataframe(municipios_area, k=2)\n",
    "w_kernel.n"
   ]
  },
  {
   "cell_type": "code",
   "execution_count": null,
   "metadata": {},
   "outputs": [],
   "source": [
    "w_kernel.bandwidth"
   ]
  },
  {
   "cell_type": "code",
   "execution_count": null,
   "metadata": {},
   "outputs": [],
   "source": [
    "w_kernel.pct_nonzero"
   ]
  },
  {
   "cell_type": "code",
   "execution_count": null,
   "metadata": {},
   "outputs": [],
   "source": [
    "ax = municipios_area.plot(edgecolor='grey', facecolor='w')\n",
    "f,ax = w_kernel.plot(municipios_area, ax=ax, \n",
    "        edge_kws=dict(color='r', linestyle=':', linewidth=1),\n",
    "        node_kws=dict(marker='o'))"
   ]
  },
  {
   "cell_type": "code",
   "execution_count": null,
   "metadata": {},
   "outputs": [],
   "source": [
    "municipios_area['NOM_COMUNA']"
   ]
  },
  {
   "cell_type": "code",
   "execution_count": null,
   "metadata": {},
   "outputs": [],
   "source": [
    "sns.heatmap(w_kernel.full()[0], xticklabels=municipios_area['NOM_COMUNA'], yticklabels=municipios_area['NOM_COMUNA'])"
   ]
  }
 ],
 "metadata": {
  "kernelspec": {
   "display_name": "aves",
   "language": "python",
   "name": "python3"
  },
  "language_info": {
   "codemirror_mode": {
    "name": "ipython",
    "version": 3
   },
   "file_extension": ".py",
   "mimetype": "text/x-python",
   "name": "python",
   "nbconvert_exporter": "python",
   "pygments_lexer": "ipython3",
   "version": "3.9.15"
  },
  "orig_nbformat": 4
 },
 "nbformat": 4,
 "nbformat_minor": 2
}
