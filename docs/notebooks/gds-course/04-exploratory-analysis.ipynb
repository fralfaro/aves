{
 "cells": [
  {
   "cell_type": "code",
   "execution_count": null,
   "metadata": {},
   "outputs": [],
   "source": [
    "import sys\n",
    "from pathlib import Path\n",
    "\n",
    "AVES_ROOT = Path(\"../..\") if not \"google.colab\" in sys.modules else Path(\"aves_git\")\n",
    "\n",
    "EOD_PATH = AVES_ROOT / \"data\" / \"external\" / \"EOD_STGO\"\n",
    "EOD_PATH"
   ]
  },
  {
   "cell_type": "code",
   "execution_count": null,
   "metadata": {},
   "outputs": [],
   "source": [
    "import matplotlib as mpl\n",
    "import matplotlib.pyplot as plt\n",
    "import seaborn as sns\n",
    "import numpy as np\n",
    "import pandas as pd\n",
    "import geopandas as gpd\n",
    "\n",
    "# esto configura la calidad de la imagen. dependerá de tu resolución. el valor por omisión es 80\n",
    "mpl.rcParams[\"figure.dpi\"] = 150\n",
    "# esto depende de las fuentes que tengas instaladas en el sistema.\n",
    "mpl.rcParams[\"font.family\"] = \"Fira Sans Extra Condensed\""
   ]
  },
  {
   "cell_type": "code",
   "execution_count": null,
   "metadata": {},
   "outputs": [],
   "source": [
    "# Load\n",
    "zones = (\n",
    "    gpd.read_file(AVES_ROOT / \"data\" / \"processed\" / \"scl_zonas_urbanas.json\")\n",
    ")\n",
    "zones.head()"
   ]
  },
  {
   "cell_type": "code",
   "execution_count": null,
   "metadata": {},
   "outputs": [],
   "source": [
    "from aves.data import eod\n",
    "\n",
    "viajes = eod.read_trips(EOD_PATH).merge(eod.read_people(EOD_PATH))\n",
    "\n",
    "viajes[\"PesoLaboral\"] = (\n",
    "    viajes[\"FactorLaboralNormal\"] * viajes[\"Factor_LaboralNormal\"]\n",
    ")\n",
    "\n",
    "viajes = viajes[pd.notnull(viajes[\"PesoLaboral\"])]\n",
    "\n",
    "viajes.columns"
   ]
  },
  {
   "cell_type": "code",
   "execution_count": null,
   "metadata": {},
   "outputs": [],
   "source": [
    "zonas_diff = viajes[viajes['Proposito'] == 'Al trabajo'].groupby(['ZonaDestino'])['PesoLaboral'].sum().rename('atraccion').to_frame().join(viajes[viajes['Proposito'] == 'Al trabajo'].groupby(['ZonaOrigen'])['PesoLaboral'].sum().rename('generacion'), how='outer').fillna(0).assign(diferencia=lambda x: x['atraccion'] - x['generacion'])\n",
    "\n",
    "zonas_diff"
   ]
  },
  {
   "cell_type": "code",
   "execution_count": null,
   "metadata": {},
   "outputs": [],
   "source": [
    "zones_with_values = zones.join(zonas_diff, on='ID', how='inner').drop_duplicates(subset='ID')\n",
    "zones_with_values"
   ]
  },
  {
   "cell_type": "code",
   "execution_count": null,
   "metadata": {},
   "outputs": [],
   "source": [
    "zones_with_values.plot(column='diferencia', cmap='Reds', legend=True)"
   ]
  },
  {
   "cell_type": "code",
   "execution_count": null,
   "metadata": {},
   "outputs": [],
   "source": [
    "from libpysal.weights import Queen, spatial_lag\n",
    "\n",
    "w_queen = Queen.from_dataframe(zones_with_values)\n",
    "w_queen.n"
   ]
  },
  {
   "cell_type": "code",
   "execution_count": null,
   "metadata": {},
   "outputs": [],
   "source": [
    "sns.heatmap(w_queen.full()[0])"
   ]
  },
  {
   "cell_type": "code",
   "execution_count": null,
   "metadata": {},
   "outputs": [],
   "source": [
    "w_queen.transform"
   ]
  },
  {
   "cell_type": "code",
   "execution_count": null,
   "metadata": {},
   "outputs": [],
   "source": [
    "w_queen.transform = 'R'"
   ]
  },
  {
   "cell_type": "code",
   "execution_count": null,
   "metadata": {},
   "outputs": [],
   "source": [
    "sns.heatmap(w_queen.full()[0])"
   ]
  },
  {
   "attachments": {},
   "cell_type": "markdown",
   "metadata": {},
   "source": [
    "Definición de Spatial Lag\n",
    "\n",
    "$y_{li} = \\sum_j w_{ij} y_j$"
   ]
  },
  {
   "cell_type": "code",
   "execution_count": null,
   "metadata": {},
   "outputs": [],
   "source": [
    "zones_with_values['diferencia_lag'] = spatial_lag.lag_spatial(w_queen, zones_with_values['diferencia'])\n",
    "zones_with_values[['diferencia_lag', 'diferencia']]"
   ]
  },
  {
   "cell_type": "code",
   "execution_count": null,
   "metadata": {},
   "outputs": [],
   "source": [
    "zones_with_values.plot('diferencia_lag', cmap='Reds')"
   ]
  },
  {
   "cell_type": "code",
   "execution_count": null,
   "metadata": {},
   "outputs": [],
   "source": [
    "zones_with_values['diferencia_std'] = zones_with_values['diferencia'] - zones_with_values['diferencia'].mean()\n",
    "zones_with_values['diferencia_lag_std'] = spatial_lag.lag_spatial(w_queen, zones_with_values['diferencia_std'])"
   ]
  },
  {
   "cell_type": "code",
   "execution_count": null,
   "metadata": {},
   "outputs": [],
   "source": [
    "ax = zones_with_values.plot(x='diferencia_std', y='diferencia_lag_std', kind='scatter')\n",
    "ax.axvline(0, c=\"k\", alpha=0.5)\n",
    "ax.axhline(0, c=\"k\", alpha=0.5)"
   ]
  },
  {
   "cell_type": "code",
   "execution_count": null,
   "metadata": {},
   "outputs": [],
   "source": [
    "from scipy.stats import linregress\n",
    "\n",
    "reg_result = linregress(zones_with_values['diferencia_std'], zones_with_values['diferencia_lag_std'])\n",
    "# slope, intercept, rvalue, pvalue\n",
    "reg_result[0], reg_result[1], reg_result[2], reg_result[3]"
   ]
  },
  {
   "attachments": {},
   "cell_type": "markdown",
   "metadata": {},
   "source": [
    "Moran's I\n",
    "\n",
    "$I = \\frac{n}{\\sum_i \\sum_j w_{ij}} \\frac{\\sum_i \\sum_j w_{ij} z_i z_j}{\\sum_i z_i^2}$\n",
    "\n",
    "Donde:\n",
    "\n",
    "* $n$ es la cantidad de muestras\n",
    "* $w_{ij}$ es el valor de spatial lag de area $j$ para area $i$\n",
    "* $z_i$ es $x_i - \\bar{x_i}$"
   ]
  },
  {
   "cell_type": "code",
   "execution_count": null,
   "metadata": {},
   "outputs": [],
   "source": [
    "from esda.moran import Moran\n",
    "\n",
    "moran = Moran(zones_with_values['diferencia'], w_queen)\n"
   ]
  },
  {
   "cell_type": "code",
   "execution_count": null,
   "metadata": {},
   "outputs": [],
   "source": [
    "moran.I, moran.p_sim"
   ]
  },
  {
   "attachments": {},
   "cell_type": "markdown",
   "metadata": {},
   "source": [
    "Local Moran's I\n",
    "\n",
    "$I_i = \\frac{n * z_i}{\\sum_i z_i^2} \\sum_j w_{ij} z_j$\n",
    "\n",
    "De hecho:\n",
    "\n",
    "$I = \\sum_{i = 1}^n \\frac{I_i}{n}$"
   ]
  },
  {
   "cell_type": "code",
   "execution_count": null,
   "metadata": {},
   "outputs": [],
   "source": [
    "from esda.moran import Moran_Local\n",
    "\n",
    "lisa = Moran_Local(zones_with_values['diferencia'], w_queen)"
   ]
  },
  {
   "cell_type": "code",
   "execution_count": null,
   "metadata": {},
   "outputs": [],
   "source": [
    "ax = sns.kdeplot(lisa.Is)\n",
    "# Add one small bar (rug) for each observation\n",
    "# along horizontal axis\n",
    "sns.rugplot(lisa.Is, ax=ax);"
   ]
  },
  {
   "cell_type": "code",
   "execution_count": null,
   "metadata": {},
   "outputs": [],
   "source": [
    "from splot import esda as esdaplot\n",
    "\n",
    "esdaplot.lisa_cluster(lisa, zones_with_values, p=1)"
   ]
  },
  {
   "cell_type": "code",
   "execution_count": null,
   "metadata": {},
   "outputs": [],
   "source": [
    "esdaplot.lisa_cluster(lisa, zones_with_values)"
   ]
  },
  {
   "cell_type": "code",
   "execution_count": null,
   "metadata": {},
   "outputs": [],
   "source": [
    "zones_with_values['lisa_group'] = (lisa.q * (lisa.p_sim < 0.05).astype(np.int))\n",
    "zones_with_values['lisa_group'].value_counts()"
   ]
  },
  {
   "cell_type": "code",
   "execution_count": null,
   "metadata": {},
   "outputs": [],
   "source": [
    "zones_with_values['label'] = zones_with_values['lisa_group'].map({\n",
    "    0: \"Non-Significant\",\n",
    "    1: \"HH\",\n",
    "    2: \"LH\",\n",
    "    3: \"LL\",\n",
    "    4: \"HL\",\n",
    "})"
   ]
  },
  {
   "cell_type": "code",
   "execution_count": null,
   "metadata": {},
   "outputs": [],
   "source": [
    "zones_with_values.groupby(['NOM_COMUNA', 'label']).size().unstack(fill_value=0)"
   ]
  }
 ],
 "metadata": {
  "kernelspec": {
   "display_name": "aves",
   "language": "python",
   "name": "python3"
  },
  "language_info": {
   "codemirror_mode": {
    "name": "ipython",
    "version": 3
   },
   "file_extension": ".py",
   "mimetype": "text/x-python",
   "name": "python",
   "nbconvert_exporter": "python",
   "pygments_lexer": "ipython3",
   "version": "3.9.15"
  },
  "orig_nbformat": 4
 },
 "nbformat": 4,
 "nbformat_minor": 2
}
