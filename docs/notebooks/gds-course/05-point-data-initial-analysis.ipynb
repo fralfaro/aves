{
 "cells": [
  {
   "cell_type": "code",
   "execution_count": null,
   "metadata": {},
   "outputs": [],
   "source": [
    "import sys\n",
    "from pathlib import Path\n",
    "\n",
    "AVES_ROOT = Path(\"../..\") if not \"google.colab\" in sys.modules else Path(\"aves_git\")\n",
    "\n",
    "EOD_PATH = AVES_ROOT / \"data\" / \"external\" / \"EOD_STGO\"\n",
    "EOD_PATH\n"
   ]
  },
  {
   "cell_type": "code",
   "execution_count": null,
   "metadata": {},
   "outputs": [],
   "source": [
    "import matplotlib as mpl\n",
    "import matplotlib.pyplot as plt\n",
    "import seaborn as sns\n",
    "import numpy as np\n",
    "import pandas as pd\n",
    "import geopandas as gpd\n",
    "\n",
    "# esto configura la calidad de la imagen. dependerá de tu resolución. el valor por omisión es 80\n",
    "mpl.rcParams[\"figure.dpi\"] = 150\n",
    "# esto depende de las fuentes que tengas instaladas en el sistema.\n",
    "mpl.rcParams[\"font.family\"] = \"Fira Sans Extra Condensed\"\n"
   ]
  },
  {
   "cell_type": "code",
   "execution_count": null,
   "metadata": {},
   "outputs": [],
   "source": [
    "# Load\n",
    "zones = gpd.read_file(AVES_ROOT / \"data\" / \"processed\" / \"scl_zonas_urbanas.json\")\n",
    "zones.head()\n"
   ]
  },
  {
   "cell_type": "code",
   "execution_count": null,
   "metadata": {},
   "outputs": [],
   "source": [
    "from aves.data import eod\n",
    "\n",
    "viajes = (\n",
    "    eod.read_trips(EOD_PATH)\n",
    "    .merge(eod.read_people(EOD_PATH))\n",
    "    .merge(eod.read_homes(EOD_PATH))\n",
    ")\n",
    "\n",
    "viajes[\"PesoLaboral\"] = viajes[\"FactorLaboralNormal\"] * viajes[\"Factor_LaboralNormal\"]\n",
    "\n",
    "viajes = viajes[pd.notnull(viajes[\"PesoLaboral\"])]\n",
    "\n",
    "viajes.columns\n"
   ]
  },
  {
   "cell_type": "code",
   "execution_count": null,
   "metadata": {},
   "outputs": [],
   "source": [
    "from aves.features.geo import to_point_geodataframe\n",
    "\n",
    "destinos_viajes = to_point_geodataframe(\n",
    "    viajes[viajes[\"ZonaDestino\"].isin(zones[\"ID\"])],\n",
    "    \"DestinoCoordX\",\n",
    "    \"DestinoCoordY\",\n",
    "    crs=\"epsg:5361\",\n",
    ")\n",
    "destinos_viajes.plot()\n"
   ]
  },
  {
   "cell_type": "code",
   "execution_count": null,
   "metadata": {},
   "outputs": [],
   "source": [
    "zones_utm = zones.to_crs(destinos_viajes.crs)\n"
   ]
  },
  {
   "attachments": {},
   "cell_type": "markdown",
   "metadata": {},
   "source": [
    "Leer:\n",
    "\n",
    "Kernel Density Estimation https://en.wikipedia.org/wiki/Kernel_density_estimation\n",
    "Multivariate KDE https://en.wikipedia.org/wiki/Multivariate_kernel_density_estimation"
   ]
  },
  {
   "cell_type": "code",
   "execution_count": null,
   "metadata": {},
   "outputs": [],
   "source": [
    "from aves.visualization.maps import heat_map\n",
    "from aves.visualization.figures import figure_from_geodataframe\n",
    "\n",
    "fig, ax = figure_from_geodataframe(zones_utm)\n",
    "zones_utm.plot(ax=ax, color=\"none\", edgecolor=\"grey\")\n",
    "heat_map(\n",
    "    ax,\n",
    "    destinos_viajes[destinos_viajes[\"Proposito\"] == \"volver a casa\"],\n",
    "    weight=\"PesoLaboral\",\n",
    "    bandwidth=1000,\n",
    "    n_levels=7,\n",
    "    kernel=\"gaussian\",\n",
    "    low_threshold=0.05,\n",
    "    alpha=0.85,\n",
    ")\n"
   ]
  },
  {
   "cell_type": "code",
   "execution_count": null,
   "metadata": {},
   "outputs": [],
   "source": [
    "destinos_viajes[\"ModoDifusion\"].value_counts()\n"
   ]
  },
  {
   "cell_type": "code",
   "execution_count": null,
   "metadata": {},
   "outputs": [],
   "source": [
    "from cgitb import small\n",
    "from aves.visualization.figures import small_multiples_from_geodataframe\n",
    "\n",
    "fig, axes = small_multiples_from_geodataframe(zones_utm, n_variables=4, col_wrap=2)\n",
    "\n",
    "for ax, key in zip(axes, (\"Auto\", \"Bicicleta\", \"Bip!\", \"Caminata\")):\n",
    "    group_df = destinos_viajes[destinos_viajes[\"ModoDifusion\"] == key]\n",
    "    zones_utm.plot(ax=ax, color=\"none\", edgecolor=\"grey\")\n",
    "    heat_map(\n",
    "        ax,\n",
    "        group_df[group_df[\"Proposito\"] == \"volver a casa\"],\n",
    "        weight=\"PesoLaboral\",\n",
    "        bandwidth=1000,\n",
    "        n_levels=7,\n",
    "        kernel=\"gaussian\",\n",
    "        low_threshold=0.05,\n",
    "        alpha=0.85,\n",
    "    )\n",
    "    ax.set_title(key)\n"
   ]
  },
  {
   "cell_type": "code",
   "execution_count": null,
   "metadata": {},
   "outputs": [],
   "source": [
    "# Clustering\n",
    "\n",
    "import hdbscan\n"
   ]
  },
  {
   "cell_type": "code",
   "execution_count": null,
   "metadata": {},
   "outputs": [],
   "source": [
    "group = destinos_viajes[destinos_viajes[\"Proposito\"] == \"De salud\"].copy()\n",
    "group.plot()\n"
   ]
  },
  {
   "cell_type": "code",
   "execution_count": null,
   "metadata": {},
   "outputs": [],
   "source": [
    "group[\"cluster\"] = hdbscan.HDBSCAN(min_cluster_size=50, min_samples=15).fit_predict(\n",
    "    np.vstack([group.geometry.x.values, group.geometry.y.values]).T\n",
    ")\n",
    "\n",
    "ax = zones_utm.plot(color=\"none\", edgecolor=\"grey\", linewidth=0.5)\n",
    "group[group[\"cluster\"] >= 0].plot(\n",
    "    ax=ax,\n",
    "    column=\"cluster\",\n",
    "    categorical=True,\n",
    "    legend=True,\n",
    "    alpha=0.9,\n",
    "    markersize=1,\n",
    "    marker=\".\",\n",
    ")\n"
   ]
  },
  {
   "cell_type": "code",
   "execution_count": null,
   "metadata": {},
   "outputs": [],
   "source": [
    "import libpysal as ps\n"
   ]
  },
  {
   "cell_type": "code",
   "execution_count": null,
   "metadata": {},
   "outputs": [],
   "source": [
    "shapes = []\n",
    "for idx, cluster_group in group.groupby(\"cluster\"):\n",
    "    if idx < 0:\n",
    "        continue\n",
    "    # print(idx, len(group))\n",
    "    cluster_xy = np.vstack(\n",
    "        [cluster_group.geometry.x.values, cluster_group.geometry.y.values]\n",
    "    ).T\n",
    "    alpha = ps.cg.alpha_shape_auto(cluster_xy, step=1)\n",
    "    shapes.append(alpha)\n",
    "\n",
    "shapes = gpd.GeoSeries(data=shapes, crs=zones_utm.crs)\n",
    "shapes.plot()\n"
   ]
  },
  {
   "cell_type": "code",
   "execution_count": null,
   "metadata": {},
   "outputs": [],
   "source": [
    "ax = zones_utm.plot(color=\"none\", edgecolor=\"grey\", linewidth=0.5)\n",
    "shapes.plot(ax=ax, color=\"purple\")\n"
   ]
  },
  {
   "cell_type": "code",
   "execution_count": null,
   "metadata": {},
   "outputs": [],
   "source": [
    "destinos_viajes[\"usa_tp\"] = (\n",
    "    destinos_viajes[\"ModoDifusion\"].str.contains(\"Bip!\").astype(int)\n",
    ")\n",
    "destinos_viajes[\"usa_tp\"].describe()\n"
   ]
  },
  {
   "cell_type": "code",
   "execution_count": null,
   "metadata": {},
   "outputs": [],
   "source": [
    "\n"
   ]
  },
  {
   "cell_type": "code",
   "execution_count": null,
   "metadata": {},
   "outputs": [],
   "source": [
    "destinos_viajes.columns\n"
   ]
  },
  {
   "cell_type": "code",
   "execution_count": null,
   "metadata": {},
   "outputs": [],
   "source": [
    "destinos_viajes[\"DistManhattan\"]\n"
   ]
  },
  {
   "cell_type": "code",
   "execution_count": null,
   "metadata": {},
   "outputs": [],
   "source": [
    "destinos_viajes[\"geometry\"]\n"
   ]
  },
  {
   "cell_type": "code",
   "execution_count": null,
   "metadata": {},
   "outputs": [],
   "source": [
    "destinos_viajes[\"Proposito\"].value_counts()\n"
   ]
  },
  {
   "cell_type": "code",
   "execution_count": null,
   "metadata": {},
   "outputs": [],
   "source": [
    "viajes_regresion = destinos_viajes[\n",
    "    destinos_viajes[\"Proposito\"].isin([\"Al trabajo\", \"Al estudio\", \"De salud\"])\n",
    "    & (destinos_viajes[\"DistManhattan\"] > 500)\n",
    "]\n",
    "len(viajes_regresion)\n"
   ]
  },
  {
   "cell_type": "code",
   "execution_count": null,
   "metadata": {},
   "outputs": [],
   "source": [
    "viajes_regresion.columns\n"
   ]
  },
  {
   "cell_type": "code",
   "execution_count": null,
   "metadata": {},
   "outputs": [],
   "source": [
    "viajes_regresion[[\"TramoIngresoFinal\", \"TramoIngreso\", \"IngresoHogar\"]]\n"
   ]
  },
  {
   "cell_type": "code",
   "execution_count": null,
   "metadata": {},
   "outputs": [],
   "source": [
    "viajes_regresion_sector = viajes_regresion.join(\n",
    "    pd.get_dummies(viajes_regresion[\"Sector\"], drop_first=True)\n",
    ")\n",
    "viajes_regresion_sector[\"DistManhattan\"] = np.sqrt(\n",
    "    viajes_regresion_sector[\"DistManhattan\"] / 1000\n",
    ")\n",
    "viajes_regresion_sector[\"IngresoHogar\"] = np.log(\n",
    "    viajes_regresion_sector[\"IngresoHogar\"] + 1\n",
    ")\n",
    "viajes_regresion_sector.columns\n"
   ]
  },
  {
   "cell_type": "code",
   "execution_count": null,
   "metadata": {},
   "outputs": [],
   "source": [
    "from scipy.spatial import KDTree\n",
    "\n",
    "kdtree_viajes = KDTree(\n",
    "    np.vstack(\n",
    "        [viajes_regresion.geometry.x.values, viajes_regresion.geometry.y.values]\n",
    "    ).T,\n",
    "    balanced_tree=True,\n",
    ")\n"
   ]
  },
  {
   "cell_type": "code",
   "execution_count": null,
   "metadata": {},
   "outputs": [],
   "source": [
    "from libpysal.weights import DistanceBand\n",
    "\n",
    "w = DistanceBand(kdtree_viajes, 1000)\n",
    "w.n\n"
   ]
  },
  {
   "cell_type": "code",
   "execution_count": null,
   "metadata": {},
   "outputs": [],
   "source": [
    "w.transform='r'"
   ]
  },
  {
   "cell_type": "code",
   "execution_count": null,
   "metadata": {},
   "outputs": [],
   "source": [
    "from spreg import OLS\n",
    "\n",
    "model = OLS(\n",
    "    viajes_regresion_sector[\"usa_tp\"].values,\n",
    "    viajes_regresion_sector[\n",
    "        [\n",
    "            \"DistManhattan\",\n",
    "            \"IngresoHogar\",\n",
    "            \"Extensión Sur-Poniente\",\n",
    "            \"Norte\",\n",
    "            \"Oriente\",\n",
    "            \"Poniente\",\n",
    "            \"Sur\",\n",
    "            \"Sur-Oriente\",\n",
    "        ]\n",
    "    ].values,\n",
    "    name_y=\"usa_tp\",\n",
    "    name_x=[\n",
    "        \"distancia\",\n",
    "        \"ingreso\",\n",
    "        \"sector sur poniente\",\n",
    "        \"norte\",\n",
    "        \"oriente\",\n",
    "        \"poniente\",\n",
    "        \"sur\",\n",
    "        \"sur oriente\",\n",
    "    ],\n",
    "    name_ds=\"eod_2012\",\n",
    "    w=w,\n",
    "    name_w='spatial lag',\n",
    "    spat_diag=True\n",
    ")\n",
    "\n",
    "print(model.summary)"
   ]
  },
  {
   "cell_type": "code",
   "execution_count": null,
   "metadata": {},
   "outputs": [],
   "source": [
    "from spreg import GM_Lag\n",
    "\n",
    "model_lag = GM_Lag(\n",
    "    viajes_regresion_sector[\"usa_tp\"].values,\n",
    "    viajes_regresion_sector[\n",
    "        [\n",
    "            \"DistManhattan\",\n",
    "            \"IngresoHogar\",\n",
    "            \"Extensión Sur-Poniente\",\n",
    "            \"Norte\",\n",
    "            \"Oriente\",\n",
    "            \"Poniente\",\n",
    "            \"Sur\",\n",
    "            \"Sur-Oriente\",\n",
    "        ]\n",
    "    ].values,\n",
    "    w=w,\n",
    "    name_y=\"usa_tp\",\n",
    "    name_x=[\n",
    "        \"distancia\",\n",
    "        \"ingreso\",\n",
    "        \"sector sur poniente\",\n",
    "        \"norte\",\n",
    "        \"oriente\",\n",
    "        \"poniente\",\n",
    "        \"sur\",\n",
    "        \"sur oriente\",\n",
    "    ],\n",
    "    name_ds=\"eod_2012\",\n",
    "    name_w=\"spatial lag\",\n",
    "    spat_diag=True\n",
    ")\n",
    "\n",
    "print(model_lag.summary)\n"
   ]
  },
  {
   "attachments": {},
   "cell_type": "markdown",
   "metadata": {},
   "source": [
    "¿Con Kernels?\n",
    "\n",
    "Ver: https://www.researchgate.net/figure/Cross-sections-of-different-types-of-spatial-kernels-A-diagram-depicting-the-general_fig15_296695387"
   ]
  },
  {
   "cell_type": "markdown",
   "metadata": {},
   "source": []
  }
 ],
 "metadata": {
  "kernelspec": {
   "display_name": "aves",
   "language": "python",
   "name": "python3"
  },
  "language_info": {
   "codemirror_mode": {
    "name": "ipython",
    "version": 3
   },
   "file_extension": ".py",
   "mimetype": "text/x-python",
   "name": "python",
   "nbconvert_exporter": "python",
   "pygments_lexer": "ipython3",
   "version": "3.9.15"
  },
  "orig_nbformat": 4
 },
 "nbformat": 4,
 "nbformat_minor": 2
}
