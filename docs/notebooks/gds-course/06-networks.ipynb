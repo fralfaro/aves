{
 "cells": [
  {
   "cell_type": "code",
   "execution_count": null,
   "metadata": {},
   "outputs": [],
   "source": [
    "import sys\n",
    "from pathlib import Path\n",
    "\n",
    "AVES_ROOT = Path(\"../..\") if not \"google.colab\" in sys.modules else Path(\"aves_git\")\n",
    "\n",
    "EOD_PATH = AVES_ROOT / \"data\" / \"external\" / \"EOD_STGO\"\n",
    "EOD_PATH"
   ]
  },
  {
   "cell_type": "code",
   "execution_count": null,
   "metadata": {},
   "outputs": [],
   "source": [
    "import matplotlib as mpl\n",
    "import matplotlib.pyplot as plt\n",
    "import seaborn as sns\n",
    "import numpy as np\n",
    "import pandas as pd\n",
    "import geopandas as gpd\n",
    "\n",
    "# esto configura la calidad de la imagen. dependerá de tu resolución. el valor por omisión es 80\n",
    "mpl.rcParams[\"figure.dpi\"] = 120\n",
    "# esto depende de las fuentes que tengas instaladas en el sistema.\n",
    "#mpl.rcParams[\"font.family\"] = \"Fira Sans Extra Condensed\"\n"
   ]
  },
  {
   "cell_type": "code",
   "execution_count": null,
   "metadata": {},
   "outputs": [],
   "source": [
    "zones = gpd.read_file(AVES_ROOT / \"data\" / \"processed\" / \"scl_zonas_urbanas.json\")\n",
    "zones.head()"
   ]
  },
  {
   "cell_type": "code",
   "execution_count": null,
   "metadata": {},
   "outputs": [],
   "source": [
    "from aves.data import census\n",
    "\n",
    "comunas = census.read_census_map('comuna', path=AVES_ROOT / \"data\" / \"external\" / \"censo_2017_R13\")"
   ]
  },
  {
   "cell_type": "code",
   "execution_count": null,
   "metadata": {},
   "outputs": [],
   "source": [
    "comunas_urbanas = comunas[comunas['COMUNA'].isin(zones['Com'].unique())].drop('NOM_COMUNA', axis=1).copy()\n",
    "comunas_urbanas['NombreComuna'] = comunas_urbanas['COMUNA'].map(dict(zip(zones['Com'], zones['Comuna'])))\n",
    "comunas_urbanas.plot(facecolor=\"none\", edgecolor=\"#abacab\")"
   ]
  },
  {
   "cell_type": "code",
   "execution_count": null,
   "metadata": {},
   "outputs": [],
   "source": [
    "from aves.features.geo import clip_area_geodataframe\n",
    "comunas_urbanas = clip_area_geodataframe(comunas_urbanas, zones.total_bounds, buffer=0.05)\n",
    "comunas_urbanas.plot()"
   ]
  },
  {
   "cell_type": "code",
   "execution_count": null,
   "metadata": {},
   "outputs": [],
   "source": [
    "from aves.data import eod\n",
    "\n",
    "viajes = (\n",
    "    eod.read_trips(EOD_PATH)\n",
    "    .merge(eod.read_people(EOD_PATH))\n",
    "    .merge(eod.read_homes(EOD_PATH))\n",
    ")\n",
    "\n",
    "viajes[\"PesoLaboral\"] = viajes[\"FactorLaboralNormal\"] * viajes[\"Factor_LaboralNormal\"]\n",
    "\n",
    "viajes = viajes[pd.notnull(viajes[\"PesoLaboral\"])]\n",
    "\n",
    "viajes.columns"
   ]
  },
  {
   "cell_type": "code",
   "execution_count": null,
   "metadata": {},
   "outputs": [],
   "source": [
    "# matriz origen-destino"
   ]
  },
  {
   "cell_type": "code",
   "execution_count": null,
   "metadata": {},
   "outputs": [],
   "source": [
    "matriz = (\n",
    "    viajes[\n",
    "        (viajes[\"Proposito\"] == \"Al trabajo\")\n",
    "        & (viajes[\"ComunaOrigen\"].isin(comunas_urbanas[\"NombreComuna\"]))\n",
    "        & (viajes[\"ComunaDestino\"].isin(comunas_urbanas[\"NombreComuna\"]))\n",
    "    ]\n",
    "    .groupby([\"ComunaOrigen\", \"ComunaDestino\"])\n",
    "    .agg(n_viajes=(\"PesoLaboral\", \"sum\"))\n",
    "    .reset_index()\n",
    ")\n",
    "\n",
    "matriz.head()"
   ]
  },
  {
   "cell_type": "code",
   "execution_count": null,
   "metadata": {},
   "outputs": [],
   "source": [
    "from aves.features.utils import normalize_rows\n",
    "\n",
    "fig, ax = plt.subplots(figsize=(12, 9))\n",
    "\n",
    "sns.heatmap(\n",
    "    matriz.set_index([\"ComunaOrigen\", \"ComunaDestino\"])[\"n_viajes\"]\n",
    "    .unstack(fill_value=0)\n",
    "    .pipe(normalize_rows),\n",
    "    cmap=\"inferno_r\",\n",
    "    linewidth=1,\n",
    ")"
   ]
  },
  {
   "cell_type": "code",
   "execution_count": null,
   "metadata": {},
   "outputs": [],
   "source": [
    "from aves.models.network import Network\n",
    "\n",
    "od_network = Network.from_edgelist(\n",
    "    # graficamos los viajes más representativos\n",
    "    matriz[matriz[\"n_viajes\"] > matriz[\"n_viajes\"].quantile(0.75)],\n",
    "    source=\"ComunaOrigen\",\n",
    "    target=\"ComunaDestino\",\n",
    "    weight=\"n_viajes\",\n",
    ")"
   ]
  },
  {
   "cell_type": "code",
   "execution_count": null,
   "metadata": {},
   "outputs": [],
   "source": [
    "from aves.visualization.networks import NodeLink\n",
    "\n",
    "nodelink = NodeLink(od_network)\n",
    "nodelink.layout_nodes(method='geographical', geodataframe=comunas_urbanas, node_column='NombreComuna')"
   ]
  },
  {
   "cell_type": "code",
   "execution_count": null,
   "metadata": {},
   "outputs": [],
   "source": [
    "nodelink.set_edge_drawing('origin-destination')"
   ]
  },
  {
   "cell_type": "code",
   "execution_count": null,
   "metadata": {},
   "outputs": [],
   "source": [
    "nodelink.set_node_drawing(\"plain\", weights='in_degree')"
   ]
  },
  {
   "cell_type": "code",
   "execution_count": null,
   "metadata": {},
   "outputs": [],
   "source": [
    "from aves.visualization.figures import figure_from_geodataframe\n",
    "\n",
    "fig, ax = figure_from_geodataframe(zones, height=7)\n",
    "\n",
    "# contexto\n",
    "zones.plot(ax=ax, facecolor='#efefef', edgecolor='white', zorder=0)\n",
    "comunas_urbanas.plot(ax=ax, facecolor='none', edgecolor='#abacab', zorder=1)\n",
    "\n",
    "nodelink.plot(ax, nodes=dict(color='white', edgecolor='black', node_size=150, alpha=0.95), edges=dict(alpha=0.5), zorder=2)\n",
    "\n",
    "ax.set_title('Viajes al trabajo en Santiago (en días laborales, EOD 2012)')\n",
    "\n",
    "fig.tight_layout()"
   ]
  },
  {
   "cell_type": "code",
   "execution_count": null,
   "metadata": {},
   "outputs": [],
   "source": [
    "matriz_zonas = (\n",
    "    viajes[\n",
    "        (viajes[\"Proposito\"].isin([\"Al trabajo\", \"Al estudio\"]))\n",
    "        & (viajes[\"ZonaOrigen\"] != viajes[\"ZonaDestino\"])\n",
    "        & (viajes[\"ZonaOrigen\"].isin(zones['ID']))\n",
    "        & (viajes[\"ZonaDestino\"].isin(zones['ID']))\n",
    "    ]\n",
    "    .groupby([\"ComunaOrigen\", \"ComunaDestino\", \"ZonaOrigen\", \"ZonaDestino\"])\n",
    "    .agg(n_viajes=(\"PesoLaboral\", \"sum\"))\n",
    "    .sort_values(\"n_viajes\", ascending=False)\n",
    "    .assign(cumsum_viajes=lambda x: x[\"n_viajes\"].cumsum())\n",
    "    .assign(cumsum_viajes=lambda x: x[\"cumsum_viajes\"] / x[\"cumsum_viajes\"].max())\n",
    "    .reset_index()\n",
    ")\n",
    "\n",
    "matriz_zonas.head()\n"
   ]
  },
  {
   "cell_type": "code",
   "execution_count": null,
   "metadata": {},
   "outputs": [],
   "source": [
    "zone_od_network = Network.from_edgelist(\n",
    "    matriz_zonas[matriz_zonas[\"cumsum_viajes\"] <= 0.5],\n",
    "    source=\"ZonaOrigen\",\n",
    "    target=\"ZonaDestino\",\n",
    "    weight=\"n_viajes\",\n",
    ")  # .largest_connected_component(directed=True)\n",
    "zone_od_network.network, zone_od_network.num_vertices, zone_od_network.num_edges\n"
   ]
  },
  {
   "cell_type": "code",
   "execution_count": null,
   "metadata": {},
   "outputs": [],
   "source": [
    "merged_zones = zones.reset_index().dissolve(\"ID\")\n",
    "merged_zones.head()\n"
   ]
  },
  {
   "cell_type": "code",
   "execution_count": null,
   "metadata": {},
   "outputs": [],
   "source": [
    "zone_nodelink = NodeLink(zone_od_network)\n",
    "zone_nodelink.layout_nodes(method=\"geographical\", geodataframe=merged_zones)\n",
    "zone_nodelink.set_node_drawing(\"plain\", weights=\"in_degree\")\n",
    "zone_nodelink.set_edge_drawing(method=\"origin-destination\")\n"
   ]
  },
  {
   "cell_type": "code",
   "execution_count": null,
   "metadata": {},
   "outputs": [],
   "source": [
    "fig, ax = figure_from_geodataframe(zones, height=7)\n",
    "\n",
    "# contexto\n",
    "zones.plot(ax=ax, facecolor=\"#efefef\", edgecolor=\"white\", zorder=0)\n",
    "comunas_urbanas.plot(ax=ax, facecolor=\"none\", edgecolor=\"#abacab\", zorder=1)\n",
    "\n",
    "zone_nodelink.plot(\n",
    "    ax,\n",
    "    nodes=dict(color=\"white\", edgecolor=\"black\", node_size=150, alpha=0.95),\n",
    "    edges=dict(alpha=0.5),\n",
    "    zorder=2,\n",
    ")\n",
    "\n",
    "ax.set_title(\"Viajes al trabajo en Santiago (en días laborales, EOD 2012)\")\n",
    "\n",
    "fig.tight_layout()\n"
   ]
  },
  {
   "cell_type": "code",
   "execution_count": null,
   "metadata": {},
   "outputs": [],
   "source": [
    "import pyrosm\n",
    "\n",
    "# redes con OSM\n",
    "OSM_PATH = AVES_ROOT / \"data\" / \"external\" / \"OSM\"\n",
    "osm = pyrosm.OSM(str(OSM_PATH / 'clipped-scl-osm.pbf'))"
   ]
  },
  {
   "cell_type": "code",
   "execution_count": null,
   "metadata": {},
   "outputs": [],
   "source": [
    "network_nodes, network_edges  = osm.get_network(nodes=True)"
   ]
  },
  {
   "cell_type": "code",
   "execution_count": null,
   "metadata": {},
   "outputs": [],
   "source": [
    "network_nodes"
   ]
  },
  {
   "cell_type": "code",
   "execution_count": null,
   "metadata": {},
   "outputs": [],
   "source": [
    "network_edges"
   ]
  },
  {
   "cell_type": "code",
   "execution_count": null,
   "metadata": {},
   "outputs": [],
   "source": [
    "network_edges[['u', 'v', 'length']]"
   ]
  },
  {
   "cell_type": "code",
   "execution_count": null,
   "metadata": {},
   "outputs": [],
   "source": [
    "walk_network = Network.from_edgelist(\n",
    "    network_edges,\n",
    "    source=\"u\",\n",
    "    target=\"v\",\n",
    "    weight=\"length\",\n",
    ")"
   ]
  },
  {
   "cell_type": "code",
   "execution_count": null,
   "metadata": {},
   "outputs": [],
   "source": [
    "walk_nodelink = NodeLink(walk_network)\n",
    "walk_nodelink.layout_nodes(\n",
    "    method=\"geographical\", geodataframe=network_nodes, node_column=\"id\"\n",
    ")\n"
   ]
  },
  {
   "cell_type": "code",
   "execution_count": null,
   "metadata": {},
   "outputs": [],
   "source": [
    "fig, ax = figure_from_geodataframe(zones, height=7)\n",
    "\n",
    "comunas_urbanas.plot(ax=ax, facecolor=\"none\", edgecolor=\"#abacab\", zorder=1)\n",
    "\n",
    "walk_nodelink.plot(\n",
    "    ax,\n",
    "    nodes=dict(color=\"black\", edgecolor=\"none\", node_size=1, alpha=1.0),\n",
    "    edges=dict(alpha=0.25, linewidth=0.25),\n",
    "    zorder=2,\n",
    ")\n",
    "\n",
    "fig.tight_layout()\n"
   ]
  },
  {
   "cell_type": "code",
   "execution_count": null,
   "metadata": {},
   "outputs": [],
   "source": [
    "fig, ax = figure_from_geodataframe(zones[zones[\"NOM_COMUNA\"] == \"SANTIAGO\"], height=7)\n",
    "\n",
    "comunas_urbanas.plot(ax=ax, facecolor=\"none\", edgecolor=\"#abacab\", zorder=1)\n",
    "\n",
    "walk_nodelink.plot(\n",
    "    ax,\n",
    "    nodes=dict(color=\"black\", edgecolor=\"none\", node_size=1, alpha=1.0),\n",
    "    edges=dict(alpha=0.5, linewidth=0.25),\n",
    "    zorder=2,\n",
    ")\n",
    "\n",
    "fig.tight_layout()\n"
   ]
  },
  {
   "cell_type": "code",
   "execution_count": null,
   "metadata": {},
   "outputs": [],
   "source": [
    "# red accesible desde un punto caminando durante 15 minutos??\n",
    "query_point = (-70.6651616, -33.4582698)\n"
   ]
  },
  {
   "cell_type": "code",
   "execution_count": null,
   "metadata": {},
   "outputs": [],
   "source": [
    "import shapely.geometry\n",
    "\n",
    "query_point_node_id = network_nodes.distance(\n",
    "    shapely.geometry.Point(query_point)\n",
    ").idxmin()\n",
    "query_point_node_id\n"
   ]
  },
  {
   "cell_type": "code",
   "execution_count": null,
   "metadata": {},
   "outputs": [],
   "source": [
    "graph_node_id = walk_network.node_map[network_nodes.loc[query_point_node_id][\"id\"]]\n",
    "graph_node_id\n"
   ]
  },
  {
   "cell_type": "code",
   "execution_count": null,
   "metadata": {},
   "outputs": [],
   "source": [
    "import graph_tool.search\n",
    "\n",
    "\n",
    "class Visitor(graph_tool.search.BFSVisitor):\n",
    "    def __init__(self, node_id, edge_weight, pred, dist):\n",
    "        self.pred = pred\n",
    "        self.dist = dist\n",
    "        self.cost = edge_weight\n",
    "\n",
    "        self.root = node_id\n",
    "        self.dist[node_id] = 0\n",
    "\n",
    "        self.next_ring = dict()\n",
    "        self.visited = set()\n",
    "        self.visited.add(node_id)\n",
    "\n",
    "    def discover_vertex(self, u):\n",
    "        self.next_ring[u] = self.dist[u]\n",
    "\n",
    "    def examine_vertex(self, u):\n",
    "        pass\n",
    "\n",
    "    def tree_edge(self, e):\n",
    "        self.pred[e.target()] = int(e.source())\n",
    "\n",
    "        cost = self.dist[e.source()] + self.cost[e]\n",
    "\n",
    "        # TODO: quizás hay que seleccionar un costo porque hay varias maneras de llegar\n",
    "        if not e.target() in self.visited:\n",
    "            self.dist[e.target()] = cost\n",
    "            self.visited.add(e.target())\n",
    "\n",
    "    def finish_vertex(self, u):\n",
    "        del self.next_ring[u]\n",
    "\n",
    "        if all(cost > 1500 for cost in self.next_ring.values()):\n",
    "            for node in self.next_ring.keys():\n",
    "                self.dist[node] = -1\n",
    "            raise graph_tool.search.StopSearch()\n",
    "\n",
    "\n",
    "dist = walk_network.graph.new_vertex_property(\"int\", val=2000)\n",
    "pred = walk_network.graph.new_vertex_property(\"int64_t\")\n",
    "\n",
    "graph_tool.search.bfs_search(\n",
    "    walk_network.graph,\n",
    "    graph_node_id,\n",
    "    Visitor(graph_node_id, walk_network._edge_weight, pred, dist),\n",
    ")\n"
   ]
  },
  {
   "cell_type": "code",
   "execution_count": null,
   "metadata": {},
   "outputs": [],
   "source": [
    "access_network = walk_network.subgraph(vertex_filter=dist.ma < 2000)\n",
    "access_nodelink = NodeLink(access_network)\n",
    "access_nodelink.layout_nodes(\n",
    "    method=\"geographical\", geodataframe=network_nodes, node_column=\"id\"\n",
    ")\n"
   ]
  },
  {
   "cell_type": "code",
   "execution_count": null,
   "metadata": {},
   "outputs": [],
   "source": [
    "fig, ax = figure_from_geodataframe(comunas[comunas[\"NOM_COMUNA\"] == \"SANTIAGO\"])\n",
    "zones.plot(ax=ax, color=\"none\", edgecolor=\"black\", linewidth=0.5)\n",
    "ax.plot([query_point[0]], [query_point[1]], marker=\"x\", color=\"red\", zorder=10)\n",
    "access_nodelink.plot_edges(ax=ax)\n"
   ]
  }
 ],
 "metadata": {
  "kernelspec": {
   "display_name": "aves",
   "language": "python",
   "name": "python3"
  },
  "language_info": {
   "codemirror_mode": {
    "name": "ipython",
    "version": 3
   },
   "file_extension": ".py",
   "mimetype": "text/x-python",
   "name": "python",
   "nbconvert_exporter": "python",
   "pygments_lexer": "ipython3",
   "version": "3.9.15"
  },
  "orig_nbformat": 4
 },
 "nbformat": 4,
 "nbformat_minor": 2
}
