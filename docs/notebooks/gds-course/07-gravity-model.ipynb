{
 "cells": [
  {
   "cell_type": "code",
   "execution_count": null,
   "metadata": {},
   "outputs": [],
   "source": [
    "import sys\n",
    "from pathlib import Path\n",
    "\n",
    "AVES_ROOT = Path(\"../..\") if not \"google.colab\" in sys.modules else Path(\"aves_git\")\n",
    "\n",
    "EOD_PATH = AVES_ROOT / \"data\" / \"external\" / \"EOD_STGO\"\n",
    "EOD_PATH"
   ]
  },
  {
   "cell_type": "code",
   "execution_count": null,
   "metadata": {},
   "outputs": [],
   "source": [
    "OSM_PATH = AVES_ROOT / \"data\" / \"external\" / \"OSM\"\n",
    "\n",
    "osm_clipped_file = OSM_PATH / 'clipped-scl-osm.pbf'"
   ]
  },
  {
   "cell_type": "code",
   "execution_count": null,
   "metadata": {},
   "outputs": [],
   "source": [
    "import matplotlib as mpl\n",
    "import matplotlib.pyplot as plt\n",
    "import seaborn as sns\n",
    "import numpy as np\n",
    "import pandas as pd\n",
    "import geopandas as gpd\n",
    "\n",
    "# esto configura la calidad de la imagen. dependerá de tu resolución. el valor por omisión es 80\n",
    "mpl.rcParams[\"figure.dpi\"] = 150\n",
    "# esto depende de las fuentes que tengas instaladas en el sistema.\n",
    "mpl.rcParams[\"font.family\"] = \"Fira Sans Extra Condensed\""
   ]
  },
  {
   "cell_type": "code",
   "execution_count": null,
   "metadata": {},
   "outputs": [],
   "source": [
    "from aves.data import eod\n",
    "\n",
    "zones = gpd.read_file(AVES_ROOT / \"data\" / \"processed\" / \"scl_zonas_urbanas.json\")\n",
    "\n",
    "viajes = (\n",
    "    eod.read_trips(EOD_PATH)\n",
    "    .merge(eod.read_people(EOD_PATH))\n",
    "    .merge(eod.read_homes(EOD_PATH))\n",
    ")\n",
    "\n",
    "viajes[\"PesoLaboral\"] = viajes[\"FactorLaboralNormal\"] * viajes[\"Factor_LaboralNormal\"]\n",
    "\n",
    "viajes = viajes[pd.notnull(viajes[\"PesoLaboral\"])]\n",
    "\n",
    "viajes.columns"
   ]
  },
  {
   "cell_type": "code",
   "execution_count": null,
   "metadata": {},
   "outputs": [],
   "source": [
    "import pyrosm\n",
    "\n",
    "osm = pyrosm.OSM(str(osm_clipped_file))"
   ]
  },
  {
   "cell_type": "code",
   "execution_count": null,
   "metadata": {},
   "outputs": [],
   "source": [
    "od_zonas = (\n",
    "    viajes[viajes[\"Proposito\"] == 'Al trabajo']\n",
    "    .groupby([\"Periodo\", \"ZonaOrigen\", \"ZonaDestino\"])[\"PesoLaboral\"]\n",
    "    .sum()\n",
    "    .rename(\"n_viajes\")\n",
    "    .to_frame()\n",
    ")\n",
    "od_zonas.sample(10)\n"
   ]
  },
  {
   "cell_type": "code",
   "execution_count": null,
   "metadata": {},
   "outputs": [],
   "source": [
    "pois = osm.get_pois()"
   ]
  },
  {
   "cell_type": "code",
   "execution_count": null,
   "metadata": {},
   "outputs": [],
   "source": [
    "from aves.features.osm.pois import categorize_pois\n",
    "\n",
    "cat_pois = categorize_pois(pois)\n",
    "cat_pois_area = gpd.sjoin(cat_pois, zones[['NOM_COMUNA', 'geometry']], op='within')\n",
    "cat_pois_area"
   ]
  },
  {
   "cell_type": "code",
   "execution_count": null,
   "metadata": {},
   "outputs": [],
   "source": [
    "zone_pois = cat_pois_area.groupby('index_right')['taxonomy'].value_counts().unstack(fill_value=0)\n",
    "zone_pois.sample(10)"
   ]
  },
  {
   "cell_type": "code",
   "execution_count": null,
   "metadata": {},
   "outputs": [],
   "source": [
    "from aves.data.eod import read_homes\n",
    "\n",
    "\n",
    "hogares = read_homes(EOD_PATH)\n",
    "hogares.head()"
   ]
  },
  {
   "cell_type": "code",
   "execution_count": null,
   "metadata": {},
   "outputs": [],
   "source": [
    "from aves.features.utils import weighted_mean\n",
    "\n",
    "zona_ingreso = hogares.groupby('Zona').apply(lambda x: weighted_mean(x, 'IngresoHogar', 'FactorHogar')).rename('ingreso')"
   ]
  },
  {
   "cell_type": "code",
   "execution_count": null,
   "metadata": {},
   "outputs": [],
   "source": [
    "from aves.data.eod import read_people\n",
    "\n",
    "\n",
    "personas = read_people(EOD_PATH).merge(hogares)\n",
    "zona_poblacion =personas.groupby('Zona')['FactorPersona'].sum().rename('population')\n",
    "zona_poblacion"
   ]
  },
  {
   "cell_type": "code",
   "execution_count": null,
   "metadata": {},
   "outputs": [],
   "source": [
    "zones.join(np.log(zona_ingreso + 1), on='ID').plot(column='ingreso')"
   ]
  },
  {
   "cell_type": "code",
   "execution_count": null,
   "metadata": {},
   "outputs": [],
   "source": [
    "zones.join(np.log(zona_poblacion + 1), on='ID').plot(column='population')"
   ]
  },
  {
   "cell_type": "code",
   "execution_count": null,
   "metadata": {},
   "outputs": [],
   "source": [
    "zone_pois_filtered = zone_pois[[c for c in zone_pois.columns if not ':' in c]].sum(axis=1).rename('total_poi')\n",
    "zone_pois_filtered"
   ]
  },
  {
   "cell_type": "code",
   "execution_count": null,
   "metadata": {},
   "outputs": [],
   "source": [
    "zone_features = zona_ingreso.to_frame().join(zona_poblacion).join(zone_pois_filtered).fillna(0)\n",
    "zone_features"
   ]
  },
  {
   "cell_type": "code",
   "execution_count": null,
   "metadata": {},
   "outputs": [],
   "source": [
    "from cytoolz import valmap\n",
    "\n",
    "dst_pos = valmap(lambda x: (x.x, x.y), zones.to_crs('epsg:5361').set_index('ID').centroid.to_dict())\n",
    "dst_pos"
   ]
  },
  {
   "cell_type": "code",
   "execution_count": null,
   "metadata": {},
   "outputs": [],
   "source": [
    "from scipy.spatial.distance import cdist\n",
    "\n",
    "distance_matrix = cdist(np.array(list(dst_pos.values())), np.array(list(dst_pos.values())))\n",
    "distance_matrix.shape"
   ]
  },
  {
   "cell_type": "code",
   "execution_count": null,
   "metadata": {},
   "outputs": [],
   "source": [
    "distance_df = pd.DataFrame(distance_matrix / 1000, index=list(dst_pos.keys()), columns=list(dst_pos.keys())).stack().reset_index()\n",
    "distance_df.columns = ['ZonaOrigen', 'ZonaDestino', 'distance']\n",
    "distance_df.head()"
   ]
  },
  {
   "cell_type": "code",
   "execution_count": null,
   "metadata": {},
   "outputs": [],
   "source": [
    "model_features = (\n",
    "    od_zonas.loc[\"Punta Mañana 2 (7:31 - 9:00)\"]\n",
    "    .reset_index()\n",
    "    .join(zone_features.add_prefix(\"o_\"), on=\"ZonaOrigen\")\n",
    "    .join(zone_features.add_prefix(\"d_\"), on=\"ZonaDestino\")\n",
    "    .fillna(0)\n",
    "    .merge(distance_df)\n",
    ")\n",
    "\n",
    "model_features\n"
   ]
  },
  {
   "cell_type": "code",
   "execution_count": null,
   "metadata": {},
   "outputs": [],
   "source": [
    "model_features.columns"
   ]
  },
  {
   "cell_type": "code",
   "execution_count": null,
   "metadata": {},
   "outputs": [],
   "source": [
    "model_features.describe()"
   ]
  },
  {
   "cell_type": "code",
   "execution_count": null,
   "metadata": {},
   "outputs": [],
   "source": [
    "model_features_clean = model_features[model_features[\"n_viajes\"] > 10]"
   ]
  },
  {
   "cell_type": "code",
   "execution_count": null,
   "metadata": {},
   "outputs": [],
   "source": [
    "import statsmodels.formula.api as sm\n",
    "\n",
    "sm.poisson(\n",
    "    \"np.log(n_viajes + 1) ~ distance + np.sqrt(o_population) + np.sqrt(d_population) + np.log(o_ingreso + 1) + np.log(d_ingreso + 1) + np.sqrt(o_total_poi) + np.sqrt(d_total_poi)\",\n",
    "    data=model_features_clean,\n",
    ").fit().summary()\n"
   ]
  },
  {
   "cell_type": "code",
   "execution_count": null,
   "metadata": {},
   "outputs": [],
   "source": [
    "import spglm\n",
    "from mgwr.gwr import GWR, MGWR\n",
    "from mgwr.sel_bw import Sel_BW\n",
    "from patsy import dmatrices, NAAction"
   ]
  },
  {
   "cell_type": "code",
   "execution_count": null,
   "metadata": {},
   "outputs": [],
   "source": [
    "model_features_clean['ZonaOrigen']"
   ]
  },
  {
   "cell_type": "code",
   "execution_count": null,
   "metadata": {},
   "outputs": [],
   "source": [
    "len(model_features_clean['ZonaOrigen'].values)"
   ]
  },
  {
   "cell_type": "code",
   "execution_count": null,
   "metadata": {},
   "outputs": [],
   "source": [
    "zones.to_crs('epsg:5361').set_index('ID').centroid.sort_index().loc[[1,1,1]]"
   ]
  },
  {
   "cell_type": "code",
   "execution_count": null,
   "metadata": {},
   "outputs": [],
   "source": [
    "coords = zones.to_crs('epsg:5361').dissolve('ID').centroid.loc[model_features_clean['ZonaOrigen'].values]\n",
    "coords = np.vstack([coords.x.values, coords.y.values]).T\n",
    "len(coords), len(model_features_clean)"
   ]
  },
  {
   "cell_type": "code",
   "execution_count": null,
   "metadata": {},
   "outputs": [],
   "source": [
    "y, X = dmatrices(\n",
    "    \"n_viajes ~ distance + np.sqrt(o_population) + np.sqrt(d_population) + np.log(o_ingreso + 1) + np.log(d_ingreso + 1) + np.sqrt(o_total_poi) + np.sqrt(d_total_poi)\",\n",
    "    model_features_clean,\n",
    "    NA_action=\"raise\",\n",
    ")\n",
    "\n",
    "len(y), len(X)\n"
   ]
  },
  {
   "cell_type": "code",
   "execution_count": null,
   "metadata": {},
   "outputs": [],
   "source": [
    "sample_idx = np.random.choice(np.arange(len(model_features_clean)), size=500, replace=False)\n",
    "#sample_idx"
   ]
  },
  {
   "cell_type": "code",
   "execution_count": null,
   "metadata": {},
   "outputs": [],
   "source": [
    "from spglm.family import Poisson"
   ]
  },
  {
   "cell_type": "code",
   "execution_count": null,
   "metadata": {},
   "outputs": [],
   "source": [
    "import multiprocessing\n",
    "\n",
    "gwr_selector = Sel_BW(coords[sample_idx], np.asarray(y)[sample_idx], np.asarray(X)[sample_idx], family=Poisson(), multi=False, fixed=False, kernel='bisquare')\n",
    "gwr_bw = gwr_selector.search(bw_min=500, pool=multiprocessing.Pool(8))\n",
    "print(gwr_bw)"
   ]
  },
  {
   "cell_type": "code",
   "execution_count": null,
   "metadata": {},
   "outputs": [],
   "source": [
    "gwr_model = GWR(\n",
    "    coords,\n",
    "    np.asarray(y),\n",
    "    np.asarray(X),\n",
    "    gwr_bw,\n",
    "    fixed=False,\n",
    "    kernel=\"bisquare\",\n",
    "    family=Poisson(),\n",
    ")\n",
    "gwr_results = gwr_model.fit(pool=multiprocessing.Pool(8))\n"
   ]
  },
  {
   "cell_type": "code",
   "execution_count": null,
   "metadata": {},
   "outputs": [],
   "source": [
    "gwr_results.summary()"
   ]
  },
  {
   "cell_type": "code",
   "execution_count": null,
   "metadata": {},
   "outputs": [],
   "source": [
    "gwr_results.params.shape"
   ]
  },
  {
   "cell_type": "code",
   "execution_count": null,
   "metadata": {},
   "outputs": [],
   "source": [
    "X.design_info.term_names"
   ]
  },
  {
   "cell_type": "code",
   "execution_count": null,
   "metadata": {},
   "outputs": [],
   "source": [
    "gwr_df = pd.DataFrame(gwr_results.params, index=model_features_clean['ZonaOrigen'].values, columns=X.design_info.term_names).drop_duplicates()\n",
    "gwr_df"
   ]
  },
  {
   "cell_type": "code",
   "execution_count": null,
   "metadata": {},
   "outputs": [],
   "source": [
    "gwr_df[['distance', 'np.log(d_ingreso + 1)']].plot(kind='kde')"
   ]
  },
  {
   "cell_type": "code",
   "execution_count": null,
   "metadata": {},
   "outputs": [],
   "source": [
    "from aves.visualization.figures import figure_from_geodataframe\n",
    "from aves.visualization.maps import choropleth_map\n",
    "\n",
    "fig, ax = figure_from_geodataframe(zones, height=7)\n",
    "\n",
    "factor = 'np.sqrt(d_total_poi)'\n",
    "\n",
    "choropleth_map(ax, zones.join(gwr_df), factor, linewidth=0, cbar_args=dict(\n",
    "        label=\"Factor\",\n",
    "        height=\"22%\",\n",
    "        width=\"2%\",\n",
    "        orientation=\"vertical\",\n",
    "        location=\"center left\",\n",
    "        label_size=\"small\",\n",
    "        bbox_to_anchor=(0.0, 0.0, 0.9, 1.0),\n",
    "    ))"
   ]
  },
  {
   "cell_type": "code",
   "execution_count": null,
   "metadata": {},
   "outputs": [],
   "source": []
  }
 ],
 "metadata": {
  "kernelspec": {
   "display_name": "aves",
   "language": "python",
   "name": "python3"
  },
  "language_info": {
   "codemirror_mode": {
    "name": "ipython",
    "version": 3
   },
   "file_extension": ".py",
   "mimetype": "text/x-python",
   "name": "python",
   "nbconvert_exporter": "python",
   "pygments_lexer": "ipython3",
   "version": "3.9.15"
  },
  "orig_nbformat": 4
 },
 "nbformat": 4,
 "nbformat_minor": 2
}
