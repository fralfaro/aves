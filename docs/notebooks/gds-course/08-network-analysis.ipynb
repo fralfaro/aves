{
 "cells": [
  {
   "cell_type": "code",
   "execution_count": null,
   "metadata": {},
   "outputs": [],
   "source": [
    "import sys\n",
    "from pathlib import Path\n",
    "\n",
    "AVES_ROOT = Path(\"../..\") if not \"google.colab\" in sys.modules else Path(\"aves_git\")\n",
    "\n",
    "EOD_PATH = AVES_ROOT / \"data\" / \"external\" / \"EOD_STGO\"\n",
    "EOD_PATH"
   ]
  },
  {
   "cell_type": "code",
   "execution_count": null,
   "metadata": {},
   "outputs": [],
   "source": [
    "import matplotlib as mpl\n",
    "import matplotlib.pyplot as plt\n",
    "import seaborn as sns\n",
    "import numpy as np\n",
    "import pandas as pd\n",
    "import geopandas as gpd\n",
    "\n",
    "# esto configura la calidad de la imagen. dependerá de tu resolución. el valor por omisión es 80\n",
    "mpl.rcParams[\"figure.dpi\"] = 120\n",
    "# esto depende de las fuentes que tengas instaladas en el sistema.\n",
    "#mpl.rcParams[\"font.family\"] = \"Fira Sans Extra Condensed\"\n"
   ]
  },
  {
   "cell_type": "code",
   "execution_count": null,
   "metadata": {},
   "outputs": [],
   "source": [
    "zones = gpd.read_file(AVES_ROOT / \"data\" / \"processed\" / \"scl_zonas_urbanas.json\")\n",
    "zones.head()"
   ]
  },
  {
   "cell_type": "code",
   "execution_count": null,
   "metadata": {},
   "outputs": [],
   "source": [
    "from aves.data import census\n",
    "\n",
    "comunas = census.read_census_map('comuna', path=AVES_ROOT / \"data\" / \"external\" / \"censo_2017_R13\")"
   ]
  },
  {
   "cell_type": "code",
   "execution_count": null,
   "metadata": {},
   "outputs": [],
   "source": [
    "comunas_urbanas = comunas[comunas['COMUNA'].isin(zones['Com'].unique())].drop('NOM_COMUNA', axis=1).copy()\n",
    "comunas_urbanas['NombreComuna'] = comunas_urbanas['COMUNA'].map(dict(zip(zones['Com'], zones['Comuna'])))\n",
    "comunas_urbanas.plot(facecolor=\"none\", edgecolor=\"#abacab\")"
   ]
  },
  {
   "cell_type": "code",
   "execution_count": null,
   "metadata": {},
   "outputs": [],
   "source": [
    "from aves.features.geo import clip_area_geodataframe\n",
    "comunas_urbanas = clip_area_geodataframe(comunas_urbanas, zones.total_bounds, buffer=0.05)\n",
    "comunas_urbanas.plot()"
   ]
  },
  {
   "cell_type": "code",
   "execution_count": null,
   "metadata": {},
   "outputs": [],
   "source": [
    "from aves.models.network import Network\n"
   ]
  },
  {
   "cell_type": "code",
   "execution_count": null,
   "metadata": {},
   "outputs": [],
   "source": [
    "from aves.visualization.networks import NodeLink\n"
   ]
  },
  {
   "cell_type": "code",
   "execution_count": null,
   "metadata": {},
   "outputs": [],
   "source": [
    "from aves.visualization.figures import figure_from_geodataframe\n",
    "\n"
   ]
  },
  {
   "cell_type": "code",
   "execution_count": null,
   "metadata": {},
   "outputs": [],
   "source": [
    "import pyrosm\n",
    "\n",
    "# redes con OSM\n",
    "OSM_PATH = AVES_ROOT / \"data\" / \"external\" / \"OSM\"\n",
    "osm = pyrosm.OSM(str(OSM_PATH / 'clipped-scl-osm.pbf'))"
   ]
  },
  {
   "cell_type": "code",
   "execution_count": null,
   "metadata": {},
   "outputs": [],
   "source": [
    "network_nodes, network_edges  = osm.get_network(nodes=True, network_type='driving')"
   ]
  },
  {
   "cell_type": "code",
   "execution_count": null,
   "metadata": {},
   "outputs": [],
   "source": [
    "network_nodes"
   ]
  },
  {
   "cell_type": "code",
   "execution_count": null,
   "metadata": {},
   "outputs": [],
   "source": [
    "network_edges"
   ]
  },
  {
   "cell_type": "code",
   "execution_count": null,
   "metadata": {},
   "outputs": [],
   "source": [
    "network_edges[['u', 'v', 'length']]"
   ]
  },
  {
   "cell_type": "code",
   "execution_count": null,
   "metadata": {},
   "outputs": [],
   "source": [
    "walk_network = Network.from_edgelist(\n",
    "    network_edges,\n",
    "    source=\"u\",\n",
    "    target=\"v\",\n",
    "    weight=\"length\",\n",
    ")"
   ]
  },
  {
   "cell_type": "code",
   "execution_count": null,
   "metadata": {},
   "outputs": [],
   "source": [
    "walk_nodelink = NodeLink(walk_network)\n",
    "walk_nodelink.layout_nodes(\n",
    "    method=\"geographical\", geodataframe=network_nodes, node_column=\"id\"\n",
    ")\n"
   ]
  },
  {
   "cell_type": "code",
   "execution_count": null,
   "metadata": {},
   "outputs": [],
   "source": [
    "fig, ax = figure_from_geodataframe(zones, height=7)\n",
    "\n",
    "comunas_urbanas.plot(ax=ax, facecolor=\"none\", edgecolor=\"#abacab\", zorder=1)\n",
    "\n",
    "walk_nodelink.plot(\n",
    "    ax,\n",
    "    nodes=dict(color=\"black\", edgecolor=\"none\", node_size=1, alpha=1.0),\n",
    "    edges=dict(alpha=0.25, linewidth=0.25),\n",
    "    zorder=2,\n",
    ")\n",
    "\n",
    "fig.tight_layout()\n"
   ]
  },
  {
   "cell_type": "code",
   "execution_count": null,
   "metadata": {},
   "outputs": [],
   "source": [
    "scl_nodes = gpd.sjoin(\n",
    "    network_nodes, zones[zones[\"NOM_COMUNA\"] == \"SANTIAGO\"], op=\"within\"\n",
    ")\n",
    "scl_nodes"
   ]
  },
  {
   "cell_type": "code",
   "execution_count": null,
   "metadata": {},
   "outputs": [],
   "source": [
    "scl_network = walk_network.subgraph(nodes=scl_nodes['id'].values)"
   ]
  },
  {
   "cell_type": "code",
   "execution_count": null,
   "metadata": {},
   "outputs": [],
   "source": [
    "scl_network.graph"
   ]
  },
  {
   "cell_type": "code",
   "execution_count": null,
   "metadata": {},
   "outputs": [],
   "source": [
    "scl_nodelink = NodeLink(scl_network)\n",
    "scl_nodelink.layout_nodes(\n",
    "    method=\"geographical\", geodataframe=network_nodes, node_column=\"id\"\n",
    ")"
   ]
  },
  {
   "cell_type": "code",
   "execution_count": null,
   "metadata": {},
   "outputs": [],
   "source": [
    "fig, ax = figure_from_geodataframe(zones[zones[\"NOM_COMUNA\"] == \"SANTIAGO\"], height=7)\n",
    "\n",
    "comunas_urbanas.plot(ax=ax, facecolor=\"none\", edgecolor=\"#abacab\", zorder=1)\n",
    "\n",
    "scl_nodelink.plot(\n",
    "    ax,\n",
    "    nodes=dict(color=\"black\", edgecolor=\"none\", node_size=1, alpha=1.0),\n",
    "    edges=dict(alpha=0.5, linewidth=0.25),\n",
    "    zorder=2,\n",
    ")\n",
    "\n",
    "fig.tight_layout()\n"
   ]
  },
  {
   "cell_type": "code",
   "execution_count": null,
   "metadata": {},
   "outputs": [],
   "source": [
    "pagerank = scl_network.estimate_pagerank()\n",
    "pagerank"
   ]
  },
  {
   "cell_type": "code",
   "execution_count": null,
   "metadata": {},
   "outputs": [],
   "source": [
    "np.array(pagerank.a).shape"
   ]
  },
  {
   "cell_type": "code",
   "execution_count": null,
   "metadata": {},
   "outputs": [],
   "source": [
    "pd.Series(pagerank.a).plot(kind='hist', bins=100)"
   ]
  },
  {
   "cell_type": "code",
   "execution_count": null,
   "metadata": {},
   "outputs": [],
   "source": [
    "scl_nodelink.set_node_drawing('plain', weights=np.power(np.array(pagerank.a), 2))"
   ]
  },
  {
   "cell_type": "code",
   "execution_count": null,
   "metadata": {},
   "outputs": [],
   "source": [
    "fig, ax = figure_from_geodataframe(zones[zones[\"NOM_COMUNA\"] == \"SANTIAGO\"], height=7)\n",
    "\n",
    "comunas_urbanas.plot(ax=ax, facecolor=\"none\", edgecolor=\"#abacab\", zorder=1)\n",
    "\n",
    "scl_nodelink.plot(\n",
    "    ax,\n",
    "    nodes=dict(color=\"black\", edgecolor=\"none\", node_size=100, alpha=0.75),\n",
    "    edges=dict(alpha=0.5, linewidth=0.25),\n",
    "    zorder=2,\n",
    ")\n",
    "\n",
    "fig.tight_layout()"
   ]
  },
  {
   "cell_type": "code",
   "execution_count": null,
   "metadata": {},
   "outputs": [],
   "source": [
    "# centralidad\n"
   ]
  },
  {
   "cell_type": "code",
   "execution_count": null,
   "metadata": {},
   "outputs": [],
   "source": [
    "node_betweenness, edge_betweenness = scl_network.estimate_betweenness()"
   ]
  },
  {
   "cell_type": "code",
   "execution_count": null,
   "metadata": {},
   "outputs": [],
   "source": [
    "scl_nodelink.set_node_drawing('plain', weights=np.power(np.array(node_betweenness.a), 2))"
   ]
  },
  {
   "cell_type": "code",
   "execution_count": null,
   "metadata": {},
   "outputs": [],
   "source": [
    "scl_nodelink.set_edge_drawing('weighted', weights=np.power(np.array(edge_betweenness.a), 2))"
   ]
  },
  {
   "cell_type": "code",
   "execution_count": null,
   "metadata": {},
   "outputs": [],
   "source": [
    "fig, ax = figure_from_geodataframe(zones[zones[\"NOM_COMUNA\"] == \"SANTIAGO\"], height=7)\n",
    "\n",
    "comunas_urbanas.plot(ax=ax, facecolor=\"none\", edgecolor=\"#abacab\", zorder=1)\n",
    "\n",
    "scl_nodelink.plot(\n",
    "    ax,\n",
    "    nodes=dict(color=\"black\", edgecolor=\"none\", node_size=10, alpha=0.75),\n",
    "    edges=dict(alpha=0.95, linewidth=2, palette='Greys', ),\n",
    "    zorder=2,\n",
    ")\n",
    "\n",
    "fig.tight_layout()"
   ]
  },
  {
   "cell_type": "code",
   "execution_count": null,
   "metadata": {},
   "outputs": [],
   "source": [
    "# camino más corto\n",
    "src_point = (-70.6651616, -33.4582698)\n",
    "dst_point = (-70.6397468, -33.4391656)\n"
   ]
  },
  {
   "cell_type": "code",
   "execution_count": null,
   "metadata": {},
   "outputs": [],
   "source": [
    "import shapely.geometry\n",
    "\n",
    "def get_node_id(query_point):\n",
    "    query_point_node_id = scl_nodes.distance(\n",
    "        shapely.geometry.Point(query_point)\n",
    "    ).idxmin()\n",
    "    return scl_nodes.loc[query_point_node_id]['id']\n"
   ]
  },
  {
   "cell_type": "code",
   "execution_count": null,
   "metadata": {},
   "outputs": [],
   "source": [
    "src_node_id = get_node_id(src_point)\n",
    "dst_node_id = get_node_id(dst_point)\n",
    "\n",
    "src_node_id, dst_node_id"
   ]
  },
  {
   "cell_type": "code",
   "execution_count": null,
   "metadata": {},
   "outputs": [],
   "source": [
    "path = scl_network.shortest_path(src_node_id, dst_node_id)\n",
    "len(path)"
   ]
  },
  {
   "cell_type": "code",
   "execution_count": null,
   "metadata": {},
   "outputs": [],
   "source": [
    "len(path[0])"
   ]
  },
  {
   "cell_type": "code",
   "execution_count": null,
   "metadata": {},
   "outputs": [],
   "source": [
    "path_network = scl_network.subgraph(nodes=path[0])\n",
    "path_nodelink = NodeLink(path_network)\n",
    "path_nodelink.layout_nodes(\n",
    "    method=\"geographical\", geodataframe=network_nodes, node_column=\"id\"\n",
    ")"
   ]
  },
  {
   "cell_type": "code",
   "execution_count": null,
   "metadata": {},
   "outputs": [],
   "source": [
    "fig, ax = figure_from_geodataframe(zones[zones[\"NOM_COMUNA\"] == \"SANTIAGO\"], height=7)\n",
    "\n",
    "comunas_urbanas.plot(ax=ax, facecolor=\"none\", edgecolor=\"#abacab\", zorder=1)\n",
    "\n",
    "scl_nodelink.plot(\n",
    "    ax,\n",
    "    nodes=dict(color=\"black\", edgecolor=\"none\", node_size=10, alpha=0.75),\n",
    "    edges=dict(alpha=0.95, linewidth=2, palette='Greys', ),\n",
    "    zorder=2,\n",
    ")\n",
    "\n",
    "path_nodelink.plot(\n",
    "    ax,\n",
    "    nodes=dict(color=\"black\", edgecolor=\"none\", node_size=1, alpha=0.75),\n",
    "    edges=dict(alpha=0.95, linewidth=5, color='red'),\n",
    "    zorder=2,\n",
    ")\n",
    "\n",
    "fig.tight_layout()\n"
   ]
  },
  {
   "cell_type": "code",
   "execution_count": null,
   "metadata": {},
   "outputs": [],
   "source": [
    "path = scl_network.shortest_path(src_node_id, dst_node_id, weights=scl_network._edge_weight)\n",
    "len(path)"
   ]
  },
  {
   "cell_type": "code",
   "execution_count": null,
   "metadata": {},
   "outputs": [],
   "source": [
    "path_network = scl_network.subgraph(nodes=path[0])\n",
    "path_nodelink = NodeLink(path_network)\n",
    "path_nodelink.layout_nodes(\n",
    "    method=\"geographical\", geodataframe=network_nodes, node_column=\"id\"\n",
    ")"
   ]
  },
  {
   "cell_type": "code",
   "execution_count": null,
   "metadata": {},
   "outputs": [],
   "source": [
    "fig, ax = figure_from_geodataframe(zones[zones[\"NOM_COMUNA\"] == \"SANTIAGO\"], height=7)\n",
    "\n",
    "comunas_urbanas.plot(ax=ax, facecolor=\"none\", edgecolor=\"#abacab\", zorder=1)\n",
    "\n",
    "scl_nodelink.plot(\n",
    "    ax,\n",
    "    nodes=dict(color=\"black\", edgecolor=\"none\", node_size=10, alpha=0.75),\n",
    "    edges=dict(alpha=0.95, linewidth=2, palette='Greys', ),\n",
    "    zorder=2,\n",
    ")\n",
    "\n",
    "path_nodelink.plot(\n",
    "    ax,\n",
    "    nodes=dict(color=\"black\", edgecolor=\"none\", node_size=1, alpha=0.75),\n",
    "    edges=dict(alpha=0.95, linewidth=5, color='red'),\n",
    "    zorder=2,\n",
    ")\n",
    "\n",
    "fig.tight_layout()"
   ]
  },
  {
   "cell_type": "code",
   "execution_count": null,
   "metadata": {},
   "outputs": [],
   "source": [
    "import graph_tool.topology\n",
    "\n",
    "min_tree = graph_tool.topology.min_spanning_tree(scl_network.graph, weights=scl_network._edge_weight)\n",
    "min_tree"
   ]
  },
  {
   "cell_type": "code",
   "execution_count": null,
   "metadata": {},
   "outputs": [],
   "source": [
    "min_tree_network = scl_network.subgraph(edge_filter=min_tree)\n",
    "min_tree_network.graph"
   ]
  },
  {
   "cell_type": "code",
   "execution_count": null,
   "metadata": {},
   "outputs": [],
   "source": [
    "tree_nodelink = NodeLink(min_tree_network)\n",
    "tree_nodelink.layout_nodes(\n",
    "    method=\"geographical\", geodataframe=network_nodes, node_column=\"id\"\n",
    ")"
   ]
  },
  {
   "cell_type": "code",
   "execution_count": null,
   "metadata": {},
   "outputs": [],
   "source": [
    "fig, ax = figure_from_geodataframe(zones[zones[\"NOM_COMUNA\"] == \"SANTIAGO\"], height=7)\n",
    "\n",
    "comunas_urbanas.plot(ax=ax, facecolor=\"none\", edgecolor=\"#abacab\", zorder=1)\n",
    "\n",
    "scl_nodelink.plot(\n",
    "    ax,\n",
    "    nodes=dict(color=\"black\", edgecolor=\"none\", node_size=10, alpha=0.75),\n",
    "    edges=dict(alpha=0.95, linewidth=2, palette='Greys', ),\n",
    "    zorder=2,\n",
    ")\n",
    "\n",
    "tree_nodelink.plot(\n",
    "    ax,\n",
    "    nodes=dict(color=\"black\", edgecolor=\"none\", node_size=1, alpha=0.75),\n",
    "    edges=dict(alpha=0.95, linewidth=5, color='red'),\n",
    "    zorder=2,\n",
    ")\n",
    "\n",
    "fig.tight_layout()"
   ]
  }
 ],
 "metadata": {
  "kernelspec": {
   "display_name": "aves",
   "language": "python",
   "name": "python3"
  },
  "language_info": {
   "codemirror_mode": {
    "name": "ipython",
    "version": 3
   },
   "file_extension": ".py",
   "mimetype": "text/x-python",
   "name": "python",
   "nbconvert_exporter": "python",
   "pygments_lexer": "ipython3",
   "version": "3.9.15"
  },
  "orig_nbformat": 4
 },
 "nbformat": 4,
 "nbformat_minor": 2
}
