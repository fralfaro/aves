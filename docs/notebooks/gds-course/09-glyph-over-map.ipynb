{
 "cells": [
  {
   "cell_type": "code",
   "execution_count": null,
   "metadata": {},
   "outputs": [],
   "source": [
    "import sys\n",
    "from pathlib import Path\n",
    "\n",
    "AVES_ROOT = Path(\"../..\") if not \"google.colab\" in sys.modules else Path(\"aves_git\")\n",
    "\n",
    "EOD_PATH = AVES_ROOT / \"data\" / \"external\" / \"EOD_STGO\"\n",
    "EOD_PATH"
   ]
  },
  {
   "cell_type": "code",
   "execution_count": null,
   "metadata": {},
   "outputs": [],
   "source": [
    "import matplotlib.pyplot as plt\n",
    "import seaborn as sns\n",
    "import numpy as np\n",
    "import pandas as pd\n",
    "import geopandas as gpd\n",
    "from aves.data import eod, census\n",
    "import matplotlib as mpl\n",
    "\n",
    "# esto configura la calidad de la imagen. dependerá de tu resolución. el valor por omisión es 80\n",
    "mpl.rcParams[\"figure.dpi\"] = 150\n",
    "# esto depende de las fuentes que tengas instaladas en el sistema.\n",
    "mpl.rcParams[\"font.family\"] = \"Fira Sans Extra Condensed\""
   ]
  },
  {
   "attachments": {},
   "cell_type": "markdown",
   "metadata": {},
   "source": [
    "Cargamos las variables de persona `p`, hogar `h` y viajes `t`."
   ]
  },
  {
   "cell_type": "code",
   "execution_count": null,
   "metadata": {},
   "outputs": [],
   "source": [
    "p = eod.read_people(EOD_PATH)\n",
    "h = eod.read_homes(EOD_PATH)\n",
    "t = eod.read_trips(EOD_PATH)"
   ]
  },
  {
   "cell_type": "code",
   "execution_count": null,
   "metadata": {},
   "outputs": [],
   "source": [
    "p.columns"
   ]
  },
  {
   "cell_type": "code",
   "execution_count": null,
   "metadata": {},
   "outputs": [],
   "source": [
    "# descartamos sectores que no sean relevantes en los orígenes y destinos de los viajes\n",
    "t = t[(t['SectorOrigen'] != 'Exterior a RM') \n",
    "        & (t['SectorDestino'] != 'Exterior a RM')\n",
    "        & (t['SectorOrigen'] != 'Extensión Sur-Poniente') \n",
    "        & (t['SectorDestino'] != 'Extensión Sur-Poniente')\n",
    "        & pd.notnull(t['SectorOrigen'])\n",
    "        & pd.notnull(t['SectorDestino'])\n",
    "        & pd.notnull(t['Proposito'])\n",
    "]\n",
    "\n",
    "print(len(t))"
   ]
  },
  {
   "attachments": {},
   "cell_type": "markdown",
   "metadata": {},
   "source": [
    "Antes considerábamos solamente la representatividad de los viajes en día de semana. Con esto incorporamos sábado y domingo. Para ello debemos considerar el peso o factor de expansión de cada viaje, y también el de cada persona. Por eso mezclamos ambos `DataFrame`:\n"
   ]
  },
  {
   "cell_type": "code",
   "execution_count": null,
   "metadata": {},
   "outputs": [],
   "source": [
    "tp = t.merge(p)"
   ]
  },
  {
   "cell_type": "code",
   "execution_count": null,
   "metadata": {},
   "outputs": [],
   "source": [
    "tp['trip_weight'] = tp['FactorLaboralNormal'].fillna(0) + tp['FactorSabadoNormal'].fillna(0) + tp['FactorDomingoNormal'].fillna(0)\n",
    "tp['person_weight'] = tp['Factor_LaboralNormal'].fillna(0) + tp['Factor_SabadoNormal'].fillna(0) + tp['Factor_DomingoNormal'].fillna(0)\n",
    "tp['weight'] = tp['trip_weight'] * tp['person_weight']\n",
    "tp = tp[(tp['weight'] > 0)].copy()\n",
    "tp['weight'].sum()"
   ]
  },
  {
   "cell_type": "code",
   "execution_count": null,
   "metadata": {},
   "outputs": [],
   "source": [
    "tph = tp.merge(h)"
   ]
  },
  {
   "attachments": {},
   "cell_type": "markdown",
   "metadata": {},
   "source": [
    "Consideremos el contexto geográfico utilizando el censo y las áreas urbanas que calculamos en los notebooks anteriores."
   ]
  },
  {
   "cell_type": "code",
   "execution_count": null,
   "metadata": {},
   "outputs": [],
   "source": [
    "comunas = census.read_census_map('comuna', path=AVES_ROOT / \"data\" / \"external\" / \"censo_2017_R13\").to_crs('epsg:5361')\n",
    "zones = gpd.read_file(AVES_ROOT / \"data\" / \"processed\" / \"scl_zonas_urbanas.json\").set_index('ID').to_crs(comunas.crs)"
   ]
  },
  {
   "cell_type": "code",
   "execution_count": null,
   "metadata": {},
   "outputs": [],
   "source": [
    "from aves.features.geo import clip_area_geodataframe"
   ]
  },
  {
   "cell_type": "code",
   "execution_count": null,
   "metadata": {},
   "outputs": [],
   "source": [
    "comunas_urbanas = (\n",
    "    comunas[comunas[\"COMUNA\"].isin(zones[\"Com\"].unique())]\n",
    "    .drop(\"NOM_COMUNA\", axis=1)\n",
    "    .copy()\n",
    ")\n",
    "\n",
    "comunas_urbanas[\"NombreComuna\"] = comunas_urbanas[\"COMUNA\"].map(\n",
    "    dict(zip(zones[\"Com\"], zones[\"Comuna\"]))\n",
    ")\n",
    "\n",
    "comunas_urbanas.head()\n"
   ]
  },
  {
   "cell_type": "code",
   "execution_count": null,
   "metadata": {},
   "outputs": [],
   "source": [
    "bounding_box = zones.total_bounds\n",
    "comunas_urbanas = clip_area_geodataframe(comunas_urbanas, zones.total_bounds, buffer=1000)"
   ]
  },
  {
   "cell_type": "code",
   "execution_count": null,
   "metadata": {},
   "outputs": [],
   "source": [
    "ax = comunas_urbanas.plot()\n",
    "zones.plot(ax=ax, facecolor='none', edgecolor='black', linewidth=0.5)"
   ]
  },
  {
   "attachments": {},
   "cell_type": "markdown",
   "metadata": {},
   "source": [
    "## Vista General de la Movilidad en Santiago"
   ]
  },
  {
   "cell_type": "code",
   "execution_count": null,
   "metadata": {},
   "outputs": [],
   "source": [
    "tph['Proposito'].value_counts()"
   ]
  },
  {
   "cell_type": "code",
   "execution_count": null,
   "metadata": {},
   "outputs": [],
   "source": [
    "purposes_per_municipality = tph.groupby(['ComunaDestino', 'Proposito'])['trip_weight'].sum().unstack()\n",
    "purposes_per_municipality"
   ]
  },
  {
   "cell_type": "code",
   "execution_count": null,
   "metadata": {},
   "outputs": [],
   "source": [
    "purposes_per_municipality.loc['Santiago'].plot(kind='pie')"
   ]
  },
  {
   "cell_type": "code",
   "execution_count": null,
   "metadata": {},
   "outputs": [],
   "source": [
    "purposes_per_municipality.loc['Providencia'].plot(kind='pie')"
   ]
  },
  {
   "cell_type": "code",
   "execution_count": null,
   "metadata": {},
   "outputs": [],
   "source": [
    "trip_activities = {'Subsistencia': ['Al estudio', 'Al trabajo', 'Por trabajo', 'Por estudio'],\n",
    " 'N/A': ['volver a casa'],\n",
    " 'Mantención': ['De compras', 'Trámites', 'De salud'],\n",
    " 'Discrecional': ['Buscar o Dejar a alguien',\n",
    "  'Visitar a alguien',\n",
    "  'Recreación',\n",
    "  'Otra actividad (especifique)',\n",
    "  'Comer o Tomar algo',\n",
    "  'Buscar o dejar algo']}"
   ]
  },
  {
   "cell_type": "code",
   "execution_count": null,
   "metadata": {},
   "outputs": [],
   "source": [
    "from aves.features.utils import normalize_rows\n",
    "\n",
    "for key, cols in trip_activities.items():\n",
    "    purposes_per_municipality[key] = purposes_per_municipality[cols].sum(axis=1)\n",
    "\n",
    "activities_per_municipality = purposes_per_municipality[['Mantención', 'Subsistencia', 'Discrecional']].pipe(normalize_rows)\n",
    "activities_per_municipality"
   ]
  },
  {
   "cell_type": "code",
   "execution_count": null,
   "metadata": {},
   "outputs": [],
   "source": [
    "activities_per_municipality.loc[['Santiago', 'La Pintana']].T.plot(kind='pie', subplots=True)"
   ]
  },
  {
   "cell_type": "code",
   "execution_count": null,
   "metadata": {},
   "outputs": [],
   "source": [
    "activities_per_municipality = gpd.GeoDataFrame(\n",
    "    activities_per_municipality,\n",
    "    geometry=comunas_urbanas.set_index(\"NombreComuna\").buffer(-500).centroid,\n",
    ")\n",
    "\n",
    "activities_per_municipality"
   ]
  },
  {
   "cell_type": "code",
   "execution_count": null,
   "metadata": {},
   "outputs": [],
   "source": [
    "from aves.visualization.figures import figure_from_geodataframe\n",
    "from aves.visualization.colors import categorical_color_legend\n",
    "import matplotlib.patheffects as path_effects\n",
    "\n",
    "fig, ax = figure_from_geodataframe(zones, height=12)\n",
    "\n",
    "comunas_urbanas.plot(ax=ax, edgecolor='white', facecolor='#efefef')\n",
    "\n",
    "colors = sns.color_palette('cool', n_colors=3)\n",
    "\n",
    "for idx, row in activities_per_municipality.iterrows():\n",
    "    # posición en el espacio (coordenadas geográficas)\n",
    "    pos = (row['geometry'].x, row['geometry'].y)\n",
    "    # posición en el gráfico (coordenadas absolutas)\n",
    "    p = ax.transData.transform_point(pos)\n",
    "    # posición en la figura (coordenadas relativas)\n",
    "    p = fig.transFigure.inverted().transform_point(p)\n",
    "\n",
    "    pie_size = 0.03\n",
    "    pie_bounds = [p[0] - pie_size * 0.5, p[1] - pie_size * 0.5, pie_size, pie_size]\n",
    "\n",
    "    box_inset = fig.add_axes(pie_bounds, label=idx)\n",
    "    box_inset.pie(row[['Mantención', 'Subsistencia', 'Discrecional']].values, wedgeprops=dict(edgecolor='black', linewidth=0.5), colors=colors)\n",
    "    \n",
    "    if True:\n",
    "        pos_y = 1.0\n",
    "        va = 'bottom'\n",
    "        \n",
    "        t = box_inset.annotate(idx, (0.5, pos_y), xycoords='axes fraction', \n",
    "                               horizontalalignment='center', va=va, fontsize=8, fontweight='bold', color='white')\n",
    "        t.set_path_effects([path_effects.Stroke(linewidth=2, foreground='black'), path_effects.Normal()])\n",
    "    \n",
    "ax.set_title('Actividades Realizadas en Cada Comuna')\n",
    "\n",
    "\n",
    "categorical_color_legend(ax, colors, ['Mantención', 'Subsistencia', 'Discrecional'], loc='center left')"
   ]
  },
  {
   "cell_type": "code",
   "execution_count": null,
   "metadata": {},
   "outputs": [],
   "source": []
  }
 ],
 "metadata": {
  "interpreter": {
   "hash": "dda1d2f2ffb6abd77a19896e899176310f2e8f7ea1c0318d98b2ccf9185d5f82"
  },
  "kernelspec": {
   "display_name": "Python 3.8.10 64-bit ('mobility': conda)",
   "name": "python3"
  },
  "language_info": {
   "codemirror_mode": {
    "name": "ipython",
    "version": 3
   },
   "file_extension": ".py",
   "mimetype": "text/x-python",
   "name": "python",
   "nbconvert_exporter": "python",
   "pygments_lexer": "ipython3",
   "version": "3.9.15"
  }
 },
 "nbformat": 4,
 "nbformat_minor": 4
}
