{
 "cells": [
  {
   "cell_type": "code",
   "execution_count": null,
   "metadata": {},
   "outputs": [],
   "source": [
    "import geopandas as gpd\n",
    "import seaborn as sns\n",
    "import pandas as pd\n",
    "import matplotlib.pyplot as plt\n",
    "from aves.data import census\n",
    "from pathlib import Path\n",
    "from aves.features.geo import clip_area_geodataframe\n",
    "from aves.visualization.figures import small_multiples_from_geodataframe\n",
    "from aves.visualization.maps import choropleth_map\n",
    "\n",
    "sns.set_context('paper')\n",
    "sns.set_style('ticks')"
   ]
  },
  {
   "attachments": {},
   "cell_type": "markdown",
   "metadata": {},
   "source": [
    "https://mapas-conaset.opendata.arcgis.com/\n",
    "\n",
    "https://mapas-conaset.opendata.arcgis.com/datasets/4b636b2f27164b0ebbeca0ab9db4d08a_0/explore"
   ]
  },
  {
   "cell_type": "code",
   "execution_count": null,
   "metadata": {},
   "outputs": [],
   "source": [
    "gdf = gpd.read_file('https://opendata.arcgis.com/api/v3/datasets/4b636b2f27164b0ebbeca0ab9db4d08a_0/downloads/data?format=geojson&spatialRefId=4326&where=1%3D1', dtypes={'Fecha': 'str', 'Hora': 'str'})"
   ]
  },
  {
   "cell_type": "code",
   "execution_count": null,
   "metadata": {},
   "outputs": [],
   "source": [
    "gdf"
   ]
  },
  {
   "cell_type": "code",
   "execution_count": null,
   "metadata": {},
   "outputs": [],
   "source": [
    "gdf.plot()"
   ]
  },
  {
   "cell_type": "code",
   "execution_count": null,
   "metadata": {},
   "outputs": [],
   "source": [
    "gdf.columns"
   ]
  },
  {
   "cell_type": "code",
   "execution_count": null,
   "metadata": {},
   "outputs": [],
   "source": [
    "gdf[['COMUNAREAL', 'Comuna_1']].value_counts()"
   ]
  },
  {
   "cell_type": "code",
   "execution_count": null,
   "metadata": {},
   "outputs": [],
   "source": [
    "gdf['Cód_Calza']"
   ]
  },
  {
   "cell_type": "code",
   "execution_count": null,
   "metadata": {},
   "outputs": [],
   "source": [
    "gdf.columns"
   ]
  },
  {
   "cell_type": "code",
   "execution_count": null,
   "metadata": {},
   "outputs": [],
   "source": [
    "gdf['Fallecidos'].value_counts()"
   ]
  },
  {
   "cell_type": "code",
   "execution_count": null,
   "metadata": {},
   "outputs": [],
   "source": [
    "gdf['Graves'].value_counts()"
   ]
  },
  {
   "cell_type": "code",
   "execution_count": null,
   "metadata": {},
   "outputs": [],
   "source": [
    "gdf['Menos_Grav'].value_counts()"
   ]
  },
  {
   "cell_type": "code",
   "execution_count": null,
   "metadata": {},
   "outputs": [],
   "source": [
    "gdf['Ilesos'].value_counts()"
   ]
  },
  {
   "cell_type": "code",
   "execution_count": null,
   "metadata": {},
   "outputs": [],
   "source": [
    "gdf['victimas'] = gdf[['Ilesos', 'Graves', 'Menos_Grav', 'Fallecidos']].sum(axis=1)"
   ]
  },
  {
   "cell_type": "code",
   "execution_count": null,
   "metadata": {},
   "outputs": [],
   "source": [
    "gdf['Condición'].value_counts()"
   ]
  },
  {
   "attachments": {},
   "cell_type": "markdown",
   "metadata": {},
   "source": [
    "## ¿Cómo?"
   ]
  },
  {
   "cell_type": "code",
   "execution_count": null,
   "metadata": {},
   "outputs": [],
   "source": [
    "gdf['Tipo_Accid'].value_counts()"
   ]
  },
  {
   "cell_type": "code",
   "execution_count": null,
   "metadata": {},
   "outputs": [],
   "source": [
    "gdf['Tipo_Accid'].str.split().map(lambda x: x[0]).value_counts()"
   ]
  },
  {
   "cell_type": "code",
   "execution_count": null,
   "metadata": {},
   "outputs": [],
   "source": [
    "gdf['tipo_simple'] = gdf['Tipo_Accid'].str.split().map(lambda x: x[0])\n",
    "gdf['tipo_simple'].value_counts()"
   ]
  },
  {
   "attachments": {},
   "cell_type": "markdown",
   "metadata": {},
   "source": [
    "## ¿Cuándo?"
   ]
  },
  {
   "cell_type": "code",
   "execution_count": null,
   "metadata": {},
   "outputs": [],
   "source": [
    "gdf['fecha'] = pd.to_datetime(gdf['Fecha'])"
   ]
  },
  {
   "cell_type": "code",
   "execution_count": null,
   "metadata": {},
   "outputs": [],
   "source": [
    "gdf.resample('1w', on='fecha').size().plot()"
   ]
  },
  {
   "cell_type": "code",
   "execution_count": null,
   "metadata": {},
   "outputs": [],
   "source": [
    "\n",
    "fig, axes = plt.subplots(1, 3, figsize=(14, 4))\n",
    "\n",
    "mean_accidents = (\n",
    "    lambda name, x: x.resample(\"1d\", on=\"fecha\")\n",
    "    #.size()\n",
    "    ['victimas'].sum()\n",
    "    .rolling(14, center=True)\n",
    "    .mean()\n",
    "    .rename(name)\n",
    "    .to_frame()\n",
    "    .apply(lambda x: (x - x.mean()) / x.std())\n",
    ")\n",
    "\n",
    "relevant = [\n",
    "    [\"ATROPELLO\", \"CAIDA\"],\n",
    "    [\"CHOQUE\", \"COLISION\", \"IMPACTO\", \"VOLCADURA\"],\n",
    "    [\"INCENDIO\", \"OTRO\"],\n",
    "]\n",
    "\n",
    "for ax, cats in zip(axes, relevant):\n",
    "    # print(g)\n",
    "    g = gdf[gdf[\"tipo_simple\"].isin(cats)]\n",
    "    mean_accidents(\"all\", gdf).plot(ax=ax, color=\"grey\", linewidth=0.5, legend=False)\n",
    "    mean_accidents(cats[0], g).plot(ax=ax, linewidth=1.5, color='purple', legend=False)\n",
    "    ax.set_title(cats[0])\n",
    "    sns.despine(ax=ax, left=True, bottom=True)\n",
    "\n",
    "fig.tight_layout()\n"
   ]
  },
  {
   "attachments": {},
   "cell_type": "markdown",
   "metadata": {},
   "source": [
    "## ¿Dónde?"
   ]
  },
  {
   "cell_type": "code",
   "execution_count": null,
   "metadata": {},
   "outputs": [],
   "source": [
    "victimas_por_comuna = gdf.groupby(['Comuna_1', 'tipo_simple'])['victimas'].sum().unstack(fill_value=0)"
   ]
  },
  {
   "cell_type": "code",
   "execution_count": null,
   "metadata": {},
   "outputs": [],
   "source": [
    "sns.clustermap(victimas_por_comuna, method='ward')"
   ]
  },
  {
   "cell_type": "code",
   "execution_count": null,
   "metadata": {},
   "outputs": [],
   "source": [
    "\n",
    "\n",
    "AVES_ROOT = Path(\"../..\")\n",
    "comunas = census.read_census_map('comuna', path=AVES_ROOT / \"data\" / \"external\" / \"censo_2017_R13\").to_crs('epsg:5361')\n",
    "zones = gpd.read_file(AVES_ROOT / \"data\" / \"processed\" / \"scl_zonas_urbanas.json\").set_index('ID').to_crs(comunas.crs)\n",
    "\n",
    "comunas_urbanas = (\n",
    "    comunas[comunas[\"COMUNA\"].isin(zones[\"Com\"].unique())]\n",
    "    .drop(\"NOM_COMUNA\", axis=1)\n",
    "    .copy()\n",
    ")\n",
    "\n",
    "comunas_urbanas[\"NombreComuna\"] = comunas_urbanas[\"COMUNA\"].map(\n",
    "    dict(zip(zones[\"Com\"], zones[\"Comuna\"].str.upper()))\n",
    ")\n",
    "\n",
    "bounding_box = zones.total_bounds\n",
    "comunas_urbanas = clip_area_geodataframe(comunas_urbanas, zones.total_bounds, buffer=1000)"
   ]
  },
  {
   "cell_type": "code",
   "execution_count": null,
   "metadata": {},
   "outputs": [],
   "source": [
    "comunas_urbanas['NombreComuna'] = comunas_urbanas['NombreComuna'].replace({'Á': 'A', 'Ú': 'U', 'Ó': 'O', 'Í': 'I', 'É': 'E'}, regex=True)"
   ]
  },
  {
   "cell_type": "code",
   "execution_count": null,
   "metadata": {},
   "outputs": [],
   "source": [
    "\n",
    "\n",
    "fig, axes = small_multiples_from_geodataframe(comunas_urbanas, 3, height=7)\n",
    "\n",
    "for cats, ax in zip(relevant, axes):\n",
    "    acc = victimas_por_comuna[cats].sum(axis=1).rename(cats[0])\n",
    "    choropleth_map(ax, comunas_urbanas.join(acc, on='NombreComuna', how='inner'), column=cats[0], binning=\"fisher_jenks\", k=4,\n",
    "    cbar_args=dict(\n",
    "        label=\"Víctimas de Accidente\",\n",
    "        height=\"22%\",\n",
    "        width=\"2%\",\n",
    "        orientation=\"vertical\",\n",
    "        location=\"center left\",\n",
    "        label_size=\"medium\",\n",
    "        bbox_to_anchor=(0.0, 0.0, 0.9, 1.0),\n",
    "        bin_spacing='uniform'\n",
    "    ))\n",
    "    ax.set_title(cats[0])\n",
    "\n",
    "fig.tight_layout()"
   ]
  },
  {
   "cell_type": "code",
   "execution_count": null,
   "metadata": {},
   "outputs": [],
   "source": [
    "accidentes_por_comuna = gdf.groupby(['Comuna_1', 'tipo_simple']).size().unstack(fill_value=0)\n",
    "accidentes_por_comuna"
   ]
  },
  {
   "cell_type": "code",
   "execution_count": null,
   "metadata": {},
   "outputs": [],
   "source": [
    "sns.clustermap((victimas_por_comuna + 1) / (accidentes_por_comuna + 1))"
   ]
  },
  {
   "cell_type": "code",
   "execution_count": null,
   "metadata": {},
   "outputs": [],
   "source": [
    "accidentabilidad = ((victimas_por_comuna + 1) / (accidentes_por_comuna + 1))"
   ]
  },
  {
   "cell_type": "code",
   "execution_count": null,
   "metadata": {},
   "outputs": [],
   "source": [
    "fig, axes = small_multiples_from_geodataframe(comunas_urbanas, 3, height=7)\n",
    "\n",
    "for cats, ax in zip(relevant, axes):\n",
    "    acc = accidentabilidad[cats].sum(axis=1).rename(cats[0])\n",
    "    choropleth_map(ax, comunas_urbanas.join(acc, on='NombreComuna', how='inner'), column=cats[0], binning=\"fisher_jenks\", k=4,\n",
    "    cbar_args=dict(\n",
    "        label=\"Accidentabilidad\",\n",
    "        height=\"22%\",\n",
    "        width=\"2%\",\n",
    "        orientation=\"vertical\",\n",
    "        location=\"center left\",\n",
    "        label_size=\"medium\",\n",
    "        bbox_to_anchor=(0.0, 0.0, 0.9, 1.0),\n",
    "        bin_spacing='uniform'\n",
    "    ))\n",
    "    ax.set_title(cats[0])\n",
    "\n",
    "fig.tight_layout()"
   ]
  },
  {
   "attachments": {},
   "cell_type": "markdown",
   "metadata": {},
   "source": [
    "## ¿Cómo proseguirían? La siguiente pregunta es ¿por qué?"
   ]
  },
  {
   "cell_type": "code",
   "execution_count": null,
   "metadata": {},
   "outputs": [],
   "source": []
  }
 ],
 "metadata": {
  "kernelspec": {
   "display_name": "aves",
   "language": "python",
   "name": "python3"
  },
  "language_info": {
   "codemirror_mode": {
    "name": "ipython",
    "version": 3
   },
   "file_extension": ".py",
   "mimetype": "text/x-python",
   "name": "python",
   "nbconvert_exporter": "python",
   "pygments_lexer": "ipython3",
   "version": "3.9.15"
  },
  "orig_nbformat": 4
 },
 "nbformat": 4,
 "nbformat_minor": 2
}
