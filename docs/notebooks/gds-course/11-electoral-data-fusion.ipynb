{
 "cells": [
  {
   "cell_type": "code",
   "execution_count": null,
   "metadata": {},
   "outputs": [],
   "source": [
    "import pandas as pd\n",
    "import geopandas as gpd\n",
    "import random\n",
    "import numpy as np\n",
    "import seaborn as sns\n",
    "from aves.models.datafusion import DataFusionModel\n",
    "from aves.data import census, eod\n",
    "from aves.features.utils import standardize_columns, normalize_rows\n",
    "from aves.models.grid import S2Grid\n",
    "from aves.visualization.figures import small_multiples_from_geodataframe\n",
    "from aves.visualization.maps import choropleth_map\n",
    "from aves.visualization.colors import add_ranged_color_legend, color_legend\n",
    "from seaborn import color_palette\n",
    "from gensim.utils import deaccent\n",
    "from aves.features.geo import to_point_geodataframe"
   ]
  },
  {
   "cell_type": "code",
   "execution_count": null,
   "metadata": {},
   "outputs": [],
   "source": [
    "from pathlib import Path\n",
    "AVES_ROOT = Path(\"../..\")"
   ]
  },
  {
   "attachments": {},
   "cell_type": "markdown",
   "metadata": {},
   "source": [
    "## Datos Electorales"
   ]
  },
  {
   "cell_type": "code",
   "execution_count": null,
   "metadata": {},
   "outputs": [],
   "source": [
    "turnout = pd.read_csv(AVES_ROOT / 'data' / 'external' / 'servel_2021' / 'votos_comuna_presidenciales_1ra_2021.csv', index_col=0)\n",
    "turnout"
   ]
  },
  {
   "cell_type": "code",
   "execution_count": null,
   "metadata": {},
   "outputs": [],
   "source": [
    "geo_turnout = pd.read_csv(AVES_ROOT / 'data' / 'external' / 'servel_2021' / 'resultados_presidenciales_1ra_2021.csv', dtype={'s2_cellid': 'str'})\n",
    "geo_turnout"
   ]
  },
  {
   "cell_type": "code",
   "execution_count": null,
   "metadata": {},
   "outputs": [],
   "source": [
    "\n",
    "zones = gpd.read_file(AVES_ROOT / \"data\" / \"processed\" / \"scl_zonas_urbanas.json\").set_index('ID')\n",
    "zones.plot()"
   ]
  },
  {
   "cell_type": "code",
   "execution_count": null,
   "metadata": {},
   "outputs": [],
   "source": [
    "\n",
    "comunas = census.read_census_map('comuna', path=AVES_ROOT / \"data\" / \"external\" / \"censo_2017_R13\").to_crs(zones.crs)"
   ]
  },
  {
   "cell_type": "code",
   "execution_count": null,
   "metadata": {},
   "outputs": [],
   "source": [
    "\n",
    "\n",
    "square_grid = S2Grid.from_geodf(zones, grid_level=13).geodf\n",
    "square_grid"
   ]
  },
  {
   "cell_type": "code",
   "execution_count": null,
   "metadata": {},
   "outputs": [],
   "source": [
    "relevant_cell_ids = list(gpd.sjoin(square_grid, zones, op='intersects')['s2_cellid'].unique())\n",
    "len(relevant_cell_ids), len(square_grid)"
   ]
  },
  {
   "cell_type": "code",
   "execution_count": null,
   "metadata": {},
   "outputs": [],
   "source": [
    "square_grid[square_grid['s2_cellid'].isin(relevant_cell_ids)].plot()"
   ]
  },
  {
   "cell_type": "code",
   "execution_count": null,
   "metadata": {},
   "outputs": [],
   "source": [
    "grid_with_data = square_grid.merge(geo_turnout, how='left').set_index('s2_cellid')\n",
    "grid_with_data"
   ]
  },
  {
   "cell_type": "code",
   "execution_count": null,
   "metadata": {},
   "outputs": [],
   "source": [
    "grid_with_data.describe()"
   ]
  },
  {
   "cell_type": "code",
   "execution_count": null,
   "metadata": {},
   "outputs": [],
   "source": [
    "bins = [0.0, 0.20, 0.40, 0.50, 0.60]"
   ]
  },
  {
   "cell_type": "code",
   "execution_count": null,
   "metadata": {},
   "outputs": [],
   "source": [
    "\n",
    "\n",
    "fig, axes = small_multiples_from_geodataframe(grid_with_data, 2)\n",
    "\n",
    "palette = color_palette('magma', n_colors=4)\n",
    "\n",
    "for ax, col in zip(axes, [\"GABRIEL BORIC FONT\", \"JOSE ANTONIO KAST RIST\"]):\n",
    "    choropleth_map(\n",
    "        ax,\n",
    "        grid_with_data,\n",
    "        col,\n",
    "        binning='custom',\n",
    "        bins=bins, legend=None, palette=palette\n",
    "    )\n",
    "    comunas.plot(ax=ax, facecolor=\"none\", edgecolor=\"#abacab\", linewidth=1)\n",
    "    ax.set_title(col.title())\n",
    "\n",
    "fig.tight_layout()\n",
    "legend_ax = fig.add_axes([0.35, -0.03, 0.3, 0.02])\n",
    "legend_ax.set_title('Proporción de los votos', fontsize='small', loc='left')\n",
    "color_legend(legend_ax, palette, bins=bins)\n",
    "fig.tight_layout()\n"
   ]
  },
  {
   "attachments": {},
   "cell_type": "markdown",
   "metadata": {},
   "source": [
    "## Datos de Transporte"
   ]
  },
  {
   "cell_type": "code",
   "execution_count": null,
   "metadata": {},
   "outputs": [],
   "source": [
    "\n",
    "\n",
    "data_eod = eod.read_trips().merge(eod.read_homes()).merge(eod.read_people())\n",
    "data_eod.head()"
   ]
  },
  {
   "cell_type": "code",
   "execution_count": null,
   "metadata": {},
   "outputs": [],
   "source": [
    "recurrent_trips = data_eod[\n",
    "    (data_eod[\"Proposito\"].isin([\"volver a casa\"]))\n",
    "    & (data_eod[\"DistEuclidiana\"] >= 500)\n",
    "    & (data_eod[\"TiempoViaje\"] <= 120)\n",
    "    & (pd.notnull(data_eod[\"SectorDestino\"]))\n",
    "].copy()\n",
    "recurrent_trips.head()"
   ]
  },
  {
   "cell_type": "code",
   "execution_count": null,
   "metadata": {},
   "outputs": [],
   "source": [
    "recurrent_trips[\"bin_tiempo_de_viaje\"] = pd.cut(recurrent_trips[\"TiempoViaje\"], bins=6)\n",
    "recurrent_trips[\"bin_tiempo_de_viaje\"].value_counts()"
   ]
  },
  {
   "cell_type": "code",
   "execution_count": null,
   "metadata": {},
   "outputs": [],
   "source": [
    "recurrent_trips[\"PesoLaboral\"] = (\n",
    "    recurrent_trips[\"FactorLaboralNormal\"] * recurrent_trips[\"Factor_LaboralNormal\"]\n",
    ")"
   ]
  },
  {
   "cell_type": "code",
   "execution_count": null,
   "metadata": {},
   "outputs": [],
   "source": [
    "\n",
    "\n",
    "comuna_x_transporte = (\n",
    "    recurrent_trips.groupby([\"Comuna\", \"bin_tiempo_de_viaje\"])[\"PesoLaboral\"]\n",
    "    .sum()\n",
    "    .unstack()\n",
    "    .pipe(normalize_rows)\n",
    "    .reset_index()\n",
    "    .assign(Comuna=lambda x: x[\"Comuna\"].map(deaccent))\n",
    "    .set_index(\"Comuna\")\n",
    "    #.pipe(lambda x: ensure_index(x, turnout))\n",
    "    #.loc[geoloc_comunas_index]\n",
    ")\n",
    "\n",
    "comuna_x_transporte"
   ]
  },
  {
   "attachments": {},
   "cell_type": "markdown",
   "metadata": {},
   "source": [
    "## Datos que caracterizan la población\n",
    "\n",
    "También usaremos la encuesta Casen 2017. La pueden descargar aquí:\n",
    "\n",
    "- [Base de datos](http://observatorio.ministeriodesarrollosocial.gob.cl/storage/docs/casen/2017/casen_2017_stata.rar)\n",
    "- [Libro de códigos](http://observatorio.ministeriodesarrollosocial.gob.cl/storage/docs/casen/2017/Libro_de_Codigos_Casen_2017.pdf)\n",
    "\n",
    "No olviden guardarla en la carpeta correspondiente (`/data/external/casen_2017`)."
   ]
  },
  {
   "cell_type": "code",
   "execution_count": null,
   "metadata": {},
   "outputs": [],
   "source": [
    "casen = pd.read_stata(AVES_ROOT / 'data' / 'external' / 'casen_2017' / 'Casen 2017.dta', convert_categoricals=False)\n",
    "casen.head()"
   ]
  },
  {
   "cell_type": "code",
   "execution_count": null,
   "metadata": {},
   "outputs": [],
   "source": [
    "codes = pd.read_excel(AVES_ROOT / 'data' / 'external' / 'casen_2017' / 'CUT_2018_v04.xls')\n",
    "codes\n"
   ]
  },
  {
   "cell_type": "code",
   "execution_count": null,
   "metadata": {},
   "outputs": [],
   "source": [
    "casen_comunas = casen.join(\n",
    "    codes.set_index(\"Código Comuna 2018\")[\"Nombre Comuna\"]\n",
    "    .str.upper()\n",
    "    .map(deaccent)\n",
    "    .rename(\"COMUNA\"),\n",
    "    on=\"comuna\",\n",
    ").pipe(lambda x: x[x[\"COMUNA\"].isin(comuna_x_transporte.index)])\n",
    "casen_comunas\n"
   ]
  },
  {
   "cell_type": "code",
   "execution_count": null,
   "metadata": {},
   "outputs": [],
   "source": [
    "comunas_x_ingreso = (\n",
    "    casen_comunas.groupby([\"COMUNA\", \"dautr\"])[\"expr\"]\n",
    "    .sum()\n",
    "    .unstack(fill_value=0)\n",
    ")\n",
    "comunas_x_ingreso"
   ]
  },
  {
   "cell_type": "code",
   "execution_count": null,
   "metadata": {},
   "outputs": [],
   "source": [
    "comunas_x_drogas = (\n",
    "    casen_comunas.groupby([\"COMUNA\", \"v38b\"])[\"expr\"]\n",
    "    .sum()\n",
    "    .unstack(fill_value=0)\n",
    ")\n",
    "comunas_x_drogas.columns = [\"Nunca\", \"Pocas veces\", \"Muchas veces\", \"Siempre\", \"N/A\"]\n",
    "comunas_x_drogas"
   ]
  },
  {
   "cell_type": "code",
   "execution_count": null,
   "metadata": {},
   "outputs": [],
   "source": [
    "comunas_x_trabajo = (\n",
    "    casen_comunas.groupby([\"COMUNA\", \"o15\"])[\"expr\"]\n",
    "    .sum()\n",
    "    .unstack(fill_value=0)\n",
    ")\n",
    "\n",
    "comunas_x_trabajo.columns = ['Patrón o empleador', 'Trabajador por cuenta propia', 'Funcionario público (Gobierno Central o Municipal)', 'Empleado u obrero de empresas públicas', 'Empreado u obrero del sector privado', 'Servicio doméstico puertas adentro', 'Servicio doméstico puertas afuera', 'FFAA y del Orden', 'Familiar no remunerado']\n",
    "\n",
    "comunas_x_trabajo.head()"
   ]
  },
  {
   "cell_type": "code",
   "execution_count": null,
   "metadata": {},
   "outputs": [],
   "source": [
    "trabajo_x_ingreso = (\n",
    "    casen_comunas.groupby([\"o15\", \"dautr\"])[\"expr\"].sum().unstack(fill_value=0)\n",
    ")\n",
    "trabajo_x_ingreso.index = [\n",
    "    \"Patrón o empleador\",\n",
    "    \"Trabajador por cuenta propia\",\n",
    "    \"Funcionario público (Gobierno Central o Municipal)\",\n",
    "    \"Empleado u obrero de empresas públicas\",\n",
    "    \"Empreado u obrero del sector privado\",\n",
    "    \"Servicio doméstico puertas adentro\",\n",
    "    \"Servicio doméstico puertas afuera\",\n",
    "    \"FFAA y del Orden\",\n",
    "    \"Familiar no remunerado\",\n",
    "]\n",
    "sns.clustermap(trabajo_x_ingreso)\n"
   ]
  },
  {
   "cell_type": "code",
   "execution_count": null,
   "metadata": {},
   "outputs": [],
   "source": [
    "turnout_plebiscito = pd.read_csv(AVES_ROOT / 'data' / 'external' / 'servel_2020' / 'votos_comuna_plebiscito_2020.csv', index_col=0)\n",
    "turnout_plebiscito"
   ]
  },
  {
   "cell_type": "code",
   "execution_count": null,
   "metadata": {},
   "outputs": [],
   "source": []
  },
  {
   "attachments": {},
   "cell_type": "markdown",
   "metadata": {},
   "source": [
    "## Posible abstención"
   ]
  },
  {
   "cell_type": "code",
   "execution_count": null,
   "metadata": {},
   "outputs": [],
   "source": [
    "poblacion_votante_comunas = (\n",
    "    casen_comunas[casen_comunas[\"edad\"] >= 14].groupby(\"COMUNA\")[\"expr\"].sum())\n",
    "poblacion_votante_comunas.sum()"
   ]
  },
  {
   "cell_type": "code",
   "execution_count": null,
   "metadata": {},
   "outputs": [],
   "source": [
    "posible_abstencion = poblacion_votante_comunas - turnout.loc[\n",
    "    poblacion_votante_comunas.index\n",
    "].sum(axis=1)\n",
    "\n",
    "comunas_x_abstencion = pd.get_dummies(pd.qcut(posible_abstencion, 5, labels=False))\n",
    "comunas_x_abstencion.columns = ['Muy baja', 'Baja', 'Media', 'Alta', 'Muy alta']\n",
    "comunas_x_abstencion"
   ]
  },
  {
   "attachments": {},
   "cell_type": "markdown",
   "metadata": {},
   "source": [
    "## Relación entre grillas y comunas"
   ]
  },
  {
   "cell_type": "code",
   "execution_count": null,
   "metadata": {},
   "outputs": [],
   "source": [
    "len(square_grid)"
   ]
  },
  {
   "cell_type": "code",
   "execution_count": null,
   "metadata": {},
   "outputs": [],
   "source": [
    "grid_intersection = gpd.overlay(square_grid[square_grid['s2_cellid'].isin(relevant_cell_ids)], comunas[['geometry', 'NOM_COMUNA']], how='intersection')\n",
    "grid_intersection"
   ]
  },
  {
   "cell_type": "code",
   "execution_count": null,
   "metadata": {},
   "outputs": [],
   "source": [
    "grid_intersection.plot(facecolor='none', edgecolor='black')"
   ]
  },
  {
   "cell_type": "code",
   "execution_count": null,
   "metadata": {},
   "outputs": [],
   "source": [
    "grid_intersection['area_weight'] = grid_intersection.to_crs('epsg:5361').area / 1000000\n",
    "grid_intersection"
   ]
  },
  {
   "cell_type": "code",
   "execution_count": null,
   "metadata": {},
   "outputs": [],
   "source": [
    "grid_x_comuna = grid_intersection.groupby(['s2_cellid', 'NOM_COMUNA'])['area_weight'].sum().unstack(fill_value=0)\n",
    "grid_x_comuna.columns = grid_x_comuna.columns.map(deaccent)\n",
    "grid_x_comuna"
   ]
  },
  {
   "attachments": {},
   "cell_type": "markdown",
   "metadata": {},
   "source": [
    "## Atributos de grilla"
   ]
  },
  {
   "cell_type": "code",
   "execution_count": null,
   "metadata": {},
   "outputs": [],
   "source": [
    "\n",
    "grid_eod = gpd.sjoin(to_point_geodataframe(recurrent_trips, 'DirCoordX', 'DirCoordY', crs='epsg:5361').to_crs('epsg:4326'), square_grid, op='within')\n",
    "grid_eod"
   ]
  },
  {
   "cell_type": "code",
   "execution_count": null,
   "metadata": {},
   "outputs": [],
   "source": [
    "grid_eod['decil_ingreso'] = pd.qcut(grid_eod['IngresoHogar'], q=10, labels=False)\n",
    "grid_x_ingreso = grid_eod.groupby(['s2_cellid', 'decil_ingreso'])['FactorHogar'].sum().unstack(fill_value=0)\n",
    "grid_x_ingreso"
   ]
  },
  {
   "cell_type": "code",
   "execution_count": null,
   "metadata": {},
   "outputs": [],
   "source": [
    "grid_x_transporte = (\n",
    "    grid_eod.groupby([\"s2_cellid\", \"bin_tiempo_de_viaje\"])[\"PesoLaboral\"]\n",
    "    .sum()\n",
    "    .unstack()\n",
    "    .pipe(normalize_rows)\n",
    ")\n",
    "\n",
    "grid_x_transporte"
   ]
  },
  {
   "attachments": {},
   "cell_type": "markdown",
   "metadata": {},
   "source": [
    "## Modelo de Fusión de Datos\n",
    "\n",
    "`AVES` incorpora un _wrapper_ sobre [scikit-fusion](https://github.com/mims-harvard/scikit-fusion)."
   ]
  },
  {
   "cell_type": "code",
   "execution_count": null,
   "metadata": {},
   "outputs": [],
   "source": [
    "list_comunas = list(set(map(deaccent, grid_intersection['NOM_COMUNA'].unique())) & set(zones['NOM_COMUNA']))\n",
    "list_comunas"
   ]
  },
  {
   "cell_type": "code",
   "execution_count": null,
   "metadata": {},
   "outputs": [],
   "source": [
    "geo_turnout_all_cells = grid_with_data.loc[relevant_cell_ids][geo_turnout.drop('s2_cellid', axis=1).columns]\n",
    "geo_turnout_all_cells"
   ]
  },
  {
   "attachments": {},
   "cell_type": "markdown",
   "metadata": {},
   "source": [
    "EL modelo de fusión de datos necesita:\n",
    "\n",
    "- `model_nodes`: un número de dimensiones para representar cada concepto que tenemos en los datos\n",
    "- `model_relations`: las relaciones entre los conceptos, expresadas como matrices (es lo que hemos construido antes). Noten que a muchas de esas matrices le aplicamos una transformación `sqrt` para estabilizar el modelo (ya que los modelos de factorización suelen ser **lineales**)."
   ]
  },
  {
   "cell_type": "code",
   "execution_count": null,
   "metadata": {},
   "outputs": [],
   "source": [
    "# dimensión (rank) de la representación latente de cada entidad\n",
    "model_nodes = {\n",
    "    \"candidatos\": 5,\n",
    "    \"comunas\": 24,\n",
    "    \"ingreso\": 4,\n",
    "    \"trabajo\": 4,\n",
    "    \"narcotráfico\": 2,\n",
    "    \"plebiscito\": 2,\n",
    "    \"grid\": 128,\n",
    "    'abstencion': 2,\n",
    "    'calidad_transporte': 4,\n",
    "}\n",
    "\n",
    "# relaciones entre entidades\n",
    "model_relations = {\n",
    "    ('candidatos', 'grid'): [geo_turnout_all_cells.T],\n",
    "    ('candidatos', 'comunas'): [turnout.loc[list_comunas].T.pipe(np.sqrt)],\n",
    "    ('grid', 'comunas'): [grid_x_comuna.loc[relevant_cell_ids][list_comunas]],\n",
    "    ('grid', 'ingreso'): [geo_turnout_all_cells[[]].join(grid_x_ingreso).fillna(0).pipe(np.sqrt)],\n",
    "    ('grid', 'calidad_transporte'): [geo_turnout_all_cells[[]].join(grid_x_transporte).fillna(0).pipe(np.sqrt)],\n",
    "    ('comunas', 'plebiscito'): [turnout_plebiscito.loc[list_comunas].pipe(np.sqrt)],\n",
    "    ('comunas', 'ingreso'): [comunas_x_ingreso.loc[list_comunas].pipe(np.sqrt)],\n",
    "    ('comunas', 'narcotráfico'): [comunas_x_drogas.loc[list_comunas].pipe(np.sqrt)],\n",
    "    ('comunas', 'calidad_transporte'): [comuna_x_transporte.loc[list_comunas].pipe(np.sqrt)],\n",
    "    ('comunas', 'trabajo'): [comunas_x_trabajo.loc[list_comunas].pipe(np.sqrt)],\n",
    "    ('comunas', 'abstencion'): [comunas_x_abstencion.loc[list_comunas]],\n",
    "    ('trabajo', 'ingreso'): [trabajo_x_ingreso.pipe(np.sqrt)]\n",
    "}"
   ]
  },
  {
   "cell_type": "code",
   "execution_count": null,
   "metadata": {},
   "outputs": [],
   "source": [
    "seed = random.randint(0, 100000)\n",
    "print(seed)\n",
    "\n",
    "random.seed(seed)\n",
    "np.random.seed(seed)\n",
    "\n",
    "model = DataFusionModel(nodes=model_nodes, relations=model_relations)\n",
    "model.fit()"
   ]
  },
  {
   "attachments": {},
   "cell_type": "markdown",
   "metadata": {},
   "source": [
    "## Exploración de algunos factores latentes"
   ]
  },
  {
   "cell_type": "code",
   "execution_count": null,
   "metadata": {},
   "outputs": [],
   "source": [
    "sns.clustermap(model.factor('candidatos'))"
   ]
  },
  {
   "cell_type": "code",
   "execution_count": null,
   "metadata": {},
   "outputs": [],
   "source": [
    "sns.clustermap(model.factor('comunas'), method='ward')"
   ]
  },
  {
   "cell_type": "code",
   "execution_count": null,
   "metadata": {},
   "outputs": [],
   "source": [
    "sns.clustermap(model.factor('trabajo'), method='ward')"
   ]
  },
  {
   "cell_type": "code",
   "execution_count": null,
   "metadata": {},
   "outputs": [],
   "source": [
    "sns.heatmap(model.relation_profiles('candidatos', 'abstencion')[0][1], center=0)"
   ]
  },
  {
   "cell_type": "code",
   "execution_count": null,
   "metadata": {},
   "outputs": [],
   "source": [
    "sns.heatmap(model.relation_profiles('candidatos', 'trabajo')[0][1].pipe(np.sqrt), center=0)"
   ]
  },
  {
   "attachments": {},
   "cell_type": "markdown",
   "metadata": {},
   "source": [
    "## Extrapolación de datos en la grilla\n",
    "\n",
    "El modelo extrapola atributos a la grilla con la que trabajamos. Entonces, lo usaremos para calcular tendencias de voto y luego identificar puntos clave de esas tendencias. El enfoque es aplicable a cualquier candidato, pero como ejemplo lo veremos con `GABRIEL BORIC FONT` en la elección presidencial y el voto de `APRUEBO` en el plebiscito constitucional."
   ]
  },
  {
   "cell_type": "code",
   "execution_count": null,
   "metadata": {},
   "outputs": [],
   "source": [
    "reconstruction = model.relation_profiles('candidatos', 'grid')[0][1].T\n",
    "reconstruction"
   ]
  },
  {
   "cell_type": "code",
   "execution_count": null,
   "metadata": {},
   "outputs": [],
   "source": [
    "grid_x_candidatos = reconstruction.pipe(standardize_columns)\n",
    "grid_x_candidatos"
   ]
  },
  {
   "cell_type": "code",
   "execution_count": null,
   "metadata": {},
   "outputs": [],
   "source": [
    "fig, axes = small_multiples_from_geodataframe(grid_with_data, 2)\n",
    "\n",
    "palette = color_palette('magma', n_colors=4)\n",
    "\n",
    "grid_reconstruction = square_grid[square_grid['s2_cellid'].isin(relevant_cell_ids)].join(grid_x_candidatos, on='s2_cellid')\n",
    "\n",
    "for ax, col in zip(axes, [\"GABRIEL BORIC FONT\", \"JOSE ANTONIO KAST RIST\"]):\n",
    "    choropleth_map(\n",
    "        ax,\n",
    "        grid_reconstruction,\n",
    "        col,\n",
    "        binning='fisher_jenks',\n",
    "        k=5,\n",
    "        #bins=bins, legend=None, palette=palette\n",
    "\n",
    "    )\n",
    "    comunas.plot(ax=ax, facecolor=\"none\", edgecolor=\"#abacab\", linewidth=1)\n",
    "    ax.set_title(col.title())\n",
    "\n",
    "fig.tight_layout()"
   ]
  },
  {
   "cell_type": "code",
   "execution_count": null,
   "metadata": {},
   "outputs": [],
   "source": [
    "grid_x_tendencia = (grid_x_candidatos['GABRIEL BORIC FONT'] - grid_x_candidatos['JOSE ANTONIO KAST RIST']).rename('tendencia')\n",
    "grid_x_tendencia"
   ]
  },
  {
   "cell_type": "code",
   "execution_count": null,
   "metadata": {},
   "outputs": [],
   "source": [
    "fig, ax = small_multiples_from_geodataframe(grid_with_data, 1)\n",
    "\n",
    "palette = color_palette('magma', n_colors=4)\n",
    "\n",
    "grid_reconstruction = square_grid[square_grid['s2_cellid'].isin(relevant_cell_ids)].join(grid_x_tendencia, on='s2_cellid')\n",
    "\n",
    "choropleth_map(\n",
    "    ax,\n",
    "    grid_reconstruction,\n",
    "    'tendencia',\n",
    "    binning='uniform',\n",
    "    k=3,\n",
    ")\n",
    "comunas.plot(ax=ax, facecolor=\"none\", edgecolor=\"#abacab\", linewidth=1)\n",
    "ax.set_title('Tendencia de votación (Boric)')\n",
    "\n",
    "fig.tight_layout()"
   ]
  },
  {
   "cell_type": "code",
   "execution_count": null,
   "metadata": {},
   "outputs": [],
   "source": [
    "grid_x_plebiscito_reconstruction = model.relation_profiles('grid', 'plebiscito')[0][1].pipe(standardize_columns)\n",
    "grid_x_plebiscito_reconstruction"
   ]
  },
  {
   "cell_type": "code",
   "execution_count": null,
   "metadata": {},
   "outputs": [],
   "source": [
    "fig, ax = small_multiples_from_geodataframe(grid_with_data, 1)\n",
    "\n",
    "palette = color_palette('magma', n_colors=4)\n",
    "\n",
    "grid_reconstruction = square_grid[square_grid['s2_cellid'].isin(relevant_cell_ids)].join(grid_x_plebiscito_reconstruction, on='s2_cellid')\n",
    "\n",
    "choropleth_map(\n",
    "    ax,\n",
    "    grid_reconstruction,\n",
    "    'APRUEBO',\n",
    "    binning='uniform',\n",
    "    k=3,\n",
    "    #bins=bins, legend=None, palette=palette\n",
    "\n",
    ")\n",
    "comunas.plot(ax=ax, facecolor=\"none\", edgecolor=\"#abacab\", linewidth=1)\n",
    "ax.set_title('Tendencia APRUEBO (Plebiscito 2021)')\n",
    "\n",
    "fig.tight_layout()"
   ]
  },
  {
   "cell_type": "code",
   "execution_count": null,
   "metadata": {},
   "outputs": [],
   "source": [
    "bivariate_data = (\n",
    "    grid_x_plebiscito_reconstruction[\"APRUEBO\"]\n",
    "    .rename(\"apoyo_apruebo\")\n",
    "    .to_frame()\n",
    "    .join(grid_x_tendencia.rename('tendencia_boric'))\n",
    ")\n",
    "bivariate_data\n"
   ]
  },
  {
   "cell_type": "code",
   "execution_count": null,
   "metadata": {},
   "outputs": [],
   "source": [
    "bivariate_data.corr()"
   ]
  },
  {
   "cell_type": "code",
   "execution_count": null,
   "metadata": {},
   "outputs": [],
   "source": [
    "from aves.visualization.maps.choropleth import bivariate_choropleth_map\n",
    "\n",
    "fig, ax = small_multiples_from_geodataframe(grid_with_data, 1, height=9)\n",
    "\n",
    "grid_reconstruction = square_grid[square_grid['s2_cellid'].isin(relevant_cell_ids)].join(bivariate_data, on='s2_cellid')\n",
    "\n",
    "bi_color_matrix, cbar_ax = bivariate_choropleth_map(\n",
    "    ax,\n",
    "    grid_reconstruction,\n",
    "    'apoyo_apruebo',\n",
    "    'tendencia_boric',\n",
    "    binning='uniform',\n",
    "    k=3,\n",
    "    cbar_args=dict(location='lower right', width='15%')\n",
    ")\n",
    "comunas.plot(ax=ax, facecolor=\"none\", edgecolor=\"#abacab\", linewidth=1)\n",
    "ax.set_title('Tendencias bivariadas')\n",
    "\n",
    "cbar_ax.set_xlabel('Apoyo Apruebo $\\\\rightarrow$', fontsize='x-small')\n",
    "cbar_ax.set_ylabel('Apoyo a Boric $\\\\rightarrow$', fontsize='x-small')\n",
    "sns.despine(ax=cbar_ax)\n",
    "\n",
    "fig.tight_layout()"
   ]
  },
  {
   "cell_type": "code",
   "execution_count": null,
   "metadata": {},
   "outputs": [],
   "source": []
  }
 ],
 "metadata": {
  "kernelspec": {
   "display_name": "aves",
   "language": "python",
   "name": "python3"
  },
  "language_info": {
   "codemirror_mode": {
    "name": "ipython",
    "version": 3
   },
   "file_extension": ".py",
   "mimetype": "text/x-python",
   "name": "python",
   "nbconvert_exporter": "python",
   "pygments_lexer": "ipython3",
   "version": "3.9.15"
  },
  "orig_nbformat": 4
 },
 "nbformat": 4,
 "nbformat_minor": 2
}
